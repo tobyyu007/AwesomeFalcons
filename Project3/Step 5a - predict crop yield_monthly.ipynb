{
 "cells": [
  {
   "cell_type": "code",
   "execution_count": 136,
   "id": "2459f358",
   "metadata": {},
   "outputs": [],
   "source": [
    "# pulled this long list from somewhere and added to it.  Not using everything here\n",
    "\n",
    "import pandas as pd\n",
    "import numpy as np\n",
    "from tqdm.auto import tqdm\n",
    "import seaborn as sns\n",
    "import matplotlib.pyplot as plt\n",
    "from sklearn.metrics import (\n",
    "    accuracy_score,\n",
    "    f1_score,\n",
    ")\n",
    "from sklearn.model_selection import  train_test_split\n",
    "from sklearn.ensemble import RandomForestClassifier, RandomForestRegressor, GradientBoostingRegressor\n",
    "from sklearn.linear_model import LogisticRegression, LinearRegression, Lasso\n",
    "from sklearn.neighbors import KNeighborsClassifier, KNeighborsRegressor\n",
    "from sklearn.svm import SVC, SVR\n",
    "from sklearn.preprocessing import StandardScaler\n",
    "from sklearn.preprocessing import MinMaxScaler\n",
    "from sklearn.metrics import precision_recall_fscore_support, mean_squared_error, r2_score\n",
    "\n",
    "from sklearn.model_selection import cross_val_score\n",
    "from sklearn.model_selection import RepeatedKFold\n",
    "\n",
    "from sklearn.ensemble import RandomForestRegressor\n",
    "from sklearn.datasets import make_regression"
   ]
  },
  {
   "cell_type": "code",
   "execution_count": 44,
   "id": "06a52532",
   "metadata": {},
   "outputs": [
    {
     "name": "stderr",
     "output_type": "stream",
     "text": [
      "/var/folders/b9/nh8wdd1s6g12c793c67f2r9r0000gn/T/ipykernel_54960/3757919105.py:6: DtypeWarning: Columns (6,7,8,9,10,11,12,13,14,15,16,17,18,19,20,21,22,23,24,25,26,27,28,29,30,31,32,33,34,35,36,37,38,39,40,41,42,43,44,45,46) have mixed types. Specify dtype option on import or set low_memory=False.\n",
      "  df_ml = pd.read_csv(ml_tables_dir + ml_file).dropna()\n"
     ]
    },
    {
     "name": "stdout",
     "output_type": "stream",
     "text": [
      "(8575, 119)\n",
      "   year state_name county_name  yield  nutr_ret_high  suit_irrig_high_soy  \\\n",
      "0  2000     KANSAS       ALLEN   40.0           10.0              10000.0   \n",
      "1  2000     KANSAS    ANDERSON   44.0           10.0              10000.0   \n",
      "2  2000     KANSAS    ATCHISON   44.0           10.0              10000.0   \n",
      "3  2000     KANSAS      BARBER   37.0           10.0              10000.0   \n",
      "4  2000     KANSAS      BARTON   44.0           10.0              10000.0   \n",
      "\n",
      "   AEZ_1  AEZ_2  AEZ_3  AEZ_4  ... month_10__PRECTOTCORR month_10__GWETROOT  \\\n",
      "0  False  False  False  False  ...                 44.73           0.590333   \n",
      "1  False  False  False  False  ...                 43.42           0.584333   \n",
      "2  False  False  False  False  ...                 46.37           0.588000   \n",
      "3  False  False  False  False  ...                 29.84           0.469333   \n",
      "4  False  False  False  False  ...                 19.08           0.489000   \n",
      "\n",
      "  month_10__EVPTRNS month_10__ALLSKY_SFC_PAR_TOT month_11__T2M_MAX  \\\n",
      "0          0.043000                       1499.2         -0.295806   \n",
      "1          0.045000                       1490.3         -0.374839   \n",
      "2          0.024333                       1432.9         -2.274516   \n",
      "3          0.066000                       1676.7          3.532581   \n",
      "4          0.040667                       1700.2          1.824194   \n",
      "\n",
      "  month_11__T2M_MIN month_11__PRECTOTCORR month_11__GWETROOT  \\\n",
      "0         -9.843226                 23.27           0.588065   \n",
      "1         -9.639677                 25.22           0.582903   \n",
      "2        -10.666129                 14.48           0.578387   \n",
      "3         -6.726774                 24.11           0.451290   \n",
      "4         -8.334194                 13.98           0.473226   \n",
      "\n",
      "  month_11__EVPTRNS month_11__ALLSKY_SFC_PAR_TOT  \n",
      "0          0.000645                       1401.0  \n",
      "1          0.000645                       1358.7  \n",
      "2          0.000323                       1332.0  \n",
      "3          0.004516                       1402.9  \n",
      "4          0.001613                       1307.5  \n",
      "\n",
      "[5 rows x 119 columns]\n",
      "False\n"
     ]
    }
   ],
   "source": [
    "ml_tables_dir = './ML_data/'\n",
    "\n",
    "ml_file = 'ML-table-monthly.csv'\n",
    "\n",
    "\n",
    "df_ml = pd.read_csv(ml_tables_dir + ml_file).dropna()\n",
    "print(df_ml.shape)\n",
    "print(df_ml.head())\n",
    "\n",
    "# Happily, there are no null values in my ML table\n",
    "print(df_ml.isnull().values.any())\n",
    "# yields False"
   ]
  },
  {
   "cell_type": "code",
   "execution_count": 133,
   "id": "84b4b4c0",
   "metadata": {},
   "outputs": [
    {
     "name": "stdout",
     "output_type": "stream",
     "text": [
      "{0: 'year', 1: 'state_name', 2: 'county_name', 3: 'yield', 4: 'nutr_ret_high', 5: 'suit_irrig_high_soy', 6: 'AEZ_1', 7: 'AEZ_2', 8: 'AEZ_3', 9: 'AEZ_4', 10: 'AEZ_5', 11: 'AEZ_6', 12: 'AEZ_7', 13: 'AEZ_8', 14: 'AEZ_9', 15: 'AEZ_10', 16: 'AEZ_11', 17: 'AEZ_12', 18: 'AEZ_13', 19: 'AEZ_14', 20: 'AEZ_15', 21: 'AEZ_16', 22: 'AEZ_17', 23: 'AEZ_18', 24: 'AEZ_19', 25: 'AEZ_20', 26: 'AEZ_21', 27: 'SQH_1', 28: 'SQH_2', 29: 'SQH_3', 30: 'SQH_4', 31: 'SQH_5', 32: 'SQH_6', 33: 'SQH_7', 34: 'SQH_8', 35: 'SQH_9', 36: 'SQH_10', 37: 'SQL_1', 38: 'SQL_2', 39: 'SQL_3', 40: 'SQL_4', 41: 'SQL_5', 42: 'SQL_6', 43: 'SQL_7', 44: 'SQL_8', 45: 'SQL_9', 46: 'SQL_10', 47: 'month_00__T2M_MAX', 48: 'month_00__T2M_MIN', 49: 'month_00__PRECTOTCORR', 50: 'month_00__GWETROOT', 51: 'month_00__EVPTRNS', 52: 'month_00__ALLSKY_SFC_PAR_TOT', 53: 'month_01__T2M_MAX', 54: 'month_01__T2M_MIN', 55: 'month_01__PRECTOTCORR', 56: 'month_01__GWETROOT', 57: 'month_01__EVPTRNS', 58: 'month_01__ALLSKY_SFC_PAR_TOT', 59: 'month_02__T2M_MAX', 60: 'month_02__T2M_MIN', 61: 'month_02__PRECTOTCORR', 62: 'month_02__GWETROOT', 63: 'month_02__EVPTRNS', 64: 'month_02__ALLSKY_SFC_PAR_TOT', 65: 'month_03__T2M_MAX', 66: 'month_03__T2M_MIN', 67: 'month_03__PRECTOTCORR', 68: 'month_03__GWETROOT', 69: 'month_03__EVPTRNS', 70: 'month_03__ALLSKY_SFC_PAR_TOT', 71: 'month_04__T2M_MAX', 72: 'month_04__T2M_MIN', 73: 'month_04__PRECTOTCORR', 74: 'month_04__GWETROOT', 75: 'month_04__EVPTRNS', 76: 'month_04__ALLSKY_SFC_PAR_TOT', 77: 'month_05__T2M_MAX', 78: 'month_05__T2M_MIN', 79: 'month_05__PRECTOTCORR', 80: 'month_05__GWETROOT', 81: 'month_05__EVPTRNS', 82: 'month_05__ALLSKY_SFC_PAR_TOT', 83: 'month_06__T2M_MAX', 84: 'month_06__T2M_MIN', 85: 'month_06__PRECTOTCORR', 86: 'month_06__GWETROOT', 87: 'month_06__EVPTRNS', 88: 'month_06__ALLSKY_SFC_PAR_TOT', 89: 'month_07__T2M_MAX', 90: 'month_07__T2M_MIN', 91: 'month_07__PRECTOTCORR', 92: 'month_07__GWETROOT', 93: 'month_07__EVPTRNS', 94: 'month_07__ALLSKY_SFC_PAR_TOT', 95: 'month_08__T2M_MAX', 96: 'month_08__T2M_MIN', 97: 'month_08__PRECTOTCORR', 98: 'month_08__GWETROOT', 99: 'month_08__EVPTRNS', 100: 'month_08__ALLSKY_SFC_PAR_TOT', 101: 'month_09__T2M_MAX', 102: 'month_09__T2M_MIN', 103: 'month_09__PRECTOTCORR', 104: 'month_09__GWETROOT', 105: 'month_09__EVPTRNS', 106: 'month_09__ALLSKY_SFC_PAR_TOT', 107: 'month_10__T2M_MAX', 108: 'month_10__T2M_MIN', 109: 'month_10__PRECTOTCORR', 110: 'month_10__GWETROOT', 111: 'month_10__EVPTRNS', 112: 'month_10__ALLSKY_SFC_PAR_TOT', 113: 'month_11__T2M_MAX', 114: 'month_11__T2M_MIN', 115: 'month_11__PRECTOTCORR', 116: 'month_11__GWETROOT', 117: 'month_11__EVPTRNS', 118: 'month_11__ALLSKY_SFC_PAR_TOT'}\n",
      "['year', 'state_name', 'nutr_ret_high', 'suit_irrig_high_soy', 'AEZ_1', 'AEZ_2', 'AEZ_3', 'AEZ_4', 'AEZ_5', 'AEZ_6', 'AEZ_8', 'AEZ_9', 'AEZ_10', 'AEZ_11', 'AEZ_12', 'AEZ_14', 'AEZ_15', 'AEZ_16', 'AEZ_17', 'AEZ_18', 'AEZ_19', 'AEZ_20', 'SQH_1', 'SQH_2', 'SQH_3', 'SQH_5', 'SQH_6', 'SQH_7', 'SQH_8', 'SQH_9', 'SQL_1', 'SQL_2', 'SQL_3', 'SQL_4', 'SQL_5', 'SQL_8', 'SQL_9', 'SQL_10', 'month_00__T2M_MAX', 'month_00__GWETROOT', 'month_00__EVPTRNS', 'month_00__ALLSKY_SFC_PAR_TOT', 'month_01__T2M_MAX', 'month_01__EVPTRNS', 'month_01__ALLSKY_SFC_PAR_TOT', 'month_02__T2M_MAX', 'month_02__T2M_MIN', 'month_02__GWETROOT', 'month_02__EVPTRNS', 'month_02__ALLSKY_SFC_PAR_TOT', 'month_03__T2M_MAX', 'month_03__GWETROOT', 'month_03__EVPTRNS', 'month_03__ALLSKY_SFC_PAR_TOT', 'month_04__T2M_MAX']\n"
     ]
    }
   ],
   "source": [
    "corr_idx = []\n",
    "df_dict = {}\n",
    "for idx, (key, val) in enumerate(df_ml.items()):\n",
    "    df_dict[idx] = key\n",
    "print(df_dict)\n",
    "\n",
    "for idx, i in enumerate(df_ml.corr()['yield']):\n",
    "    if i > 0.1 or i < -0.1:\n",
    "        corr_idx.append(idx)\n",
    "print([df_dict[i] for i in corr_idx])"
   ]
  },
  {
   "cell_type": "markdown",
   "id": "709bf72d",
   "metadata": {},
   "source": [
    "###### df_ml_dropped = df_ml.dropna()\n",
    "for idx, i in enumerate(df_ml_dropped.isnull().sum()):\n",
    "    print(i, df_ml_dropped.columns[idx])\n",
    "print(len(df_ml))\n",
    "print(len(df_ml_dropped))"
   ]
  },
  {
   "cell_type": "code",
   "execution_count": 47,
   "id": "3aa0dd73",
   "metadata": {},
   "outputs": [
    {
     "name": "stdout",
     "output_type": "stream",
     "text": [
      "(8575, 118)\n",
      "(8575, 1)\n"
     ]
    }
   ],
   "source": [
    "X = df_ml.drop(columns=['yield'])\n",
    "y = df_ml.loc[:,['yield']]\n",
    "\n",
    "print(X.shape)\n",
    "print(y.shape)\n",
    " \n",
    "# print(X.head())\n",
    "# print(y.head())"
   ]
  },
  {
   "cell_type": "code",
   "execution_count": 48,
   "id": "50cd46c3",
   "metadata": {},
   "outputs": [
    {
     "name": "stdout",
     "output_type": "stream",
     "text": [
      "      year    state_name county_name  nutr_ret_high  suit_irrig_high_soy  \\\n",
      "4518  2009         TEXAS       COOKE           10.0               7778.0   \n",
      "8563  2022         TEXAS       MILAM           10.0               7778.0   \n",
      "9     2000        KANSAS  CHAUTAUQUA           10.0              10000.0   \n",
      "7404  2018         TEXAS        BELL           10.0               7778.0   \n",
      "3723  2007  SOUTH DAKOTA   CODINGTON           10.0              10000.0   \n",
      "\n",
      "      AEZ_1  AEZ_2  AEZ_3  AEZ_4  AEZ_5  ... month_10__PRECTOTCORR  \\\n",
      "4518  False  False  False  False  False  ...                 10.54   \n",
      "8563  False  False  False  False  False  ...                112.92   \n",
      "9     False  False  False  False  False  ...                 45.71   \n",
      "7404  False  False  False  False   True  ...                 38.01   \n",
      "3723  False  False  False  False  False  ...                  1.74   \n",
      "\n",
      "     month_10__GWETROOT month_10__EVPTRNS month_10__ALLSKY_SFC_PAR_TOT  \\\n",
      "4518           0.707667          0.352000                      1871.21   \n",
      "8563           0.551333          0.153333                      1647.84   \n",
      "9              0.513667          0.052667                      1532.00   \n",
      "7404           0.740333          0.485333                      1801.25   \n",
      "3723           0.443667          0.009333                      1147.23   \n",
      "\n",
      "     month_11__T2M_MAX month_11__T2M_MIN month_11__PRECTOTCORR  \\\n",
      "4518          8.999355         -2.026452                 54.92   \n",
      "8563         16.302903          5.943226                 90.59   \n",
      "9             1.325484         -8.411290                 30.41   \n",
      "7404         14.959355          4.742581                110.32   \n",
      "3723         -4.427742        -12.968710                 26.26   \n",
      "\n",
      "     month_11__GWETROOT month_11__EVPTRNS month_11__ALLSKY_SFC_PAR_TOT  \n",
      "4518           0.700323          0.038387                      1425.80  \n",
      "8563        -966.755161       -966.766774                    -29914.36  \n",
      "9              0.509677          0.002581                      1370.80  \n",
      "7404           0.750968          0.236452                      1459.08  \n",
      "3723           0.447097          0.000000                       841.58  \n",
      "\n",
      "[5 rows x 118 columns]\n",
      "      yield\n",
      "4518   23.0\n",
      "8563   27.0\n",
      "9      32.0\n",
      "7404   47.9\n",
      "3723   53.9\n",
      "      year    state_name county_name  nutr_ret_high  suit_irrig_high_soy  \\\n",
      "8031  2021        KANSAS      BUTLER           10.0              10000.0   \n",
      "6285  2014         TEXAS    HEMPHILL           10.0               7778.0   \n",
      "2297  2004         TEXAS      BAYLOR           10.0               7778.0   \n",
      "6179  2014      OKLAHOMA      GARVIN           10.0               7778.0   \n",
      "4796  2010  NORTH DAKOTA    WILLIAMS           10.0               7778.0   \n",
      "\n",
      "      AEZ_1  AEZ_2  AEZ_3  AEZ_4  AEZ_5  ... month_10__PRECTOTCORR  \\\n",
      "8031  False  False  False  False  False  ...                  8.92   \n",
      "6285  False  False  False  False  False  ...                 15.02   \n",
      "2297  False  False  False  False   True  ...                164.82   \n",
      "6179  False  False  False  False  False  ...                104.86   \n",
      "4796  False  False  False  False  False  ...                 30.73   \n",
      "\n",
      "     month_10__GWETROOT month_10__EVPTRNS month_10__ALLSKY_SFC_PAR_TOT  \\\n",
      "8031           0.448667          0.110000                      1576.05   \n",
      "6285           0.383333          0.027667                      1808.87   \n",
      "2297           0.503333          0.193000                      1457.92   \n",
      "6179           0.452667          0.133333                      1771.69   \n",
      "4796           0.454333          0.004000                       756.75   \n",
      "\n",
      "     month_11__T2M_MAX month_11__T2M_MIN month_11__PRECTOTCORR  \\\n",
      "8031         12.811613          0.019677                  5.79   \n",
      "6285          8.970968         -0.601613                 10.21   \n",
      "2297         14.019677          0.636774                 15.65   \n",
      "6179         11.104194          2.568710                 28.36   \n",
      "4796         -8.165161        -16.364516                 33.55   \n",
      "\n",
      "     month_11__GWETROOT month_11__EVPTRNS month_11__ALLSKY_SFC_PAR_TOT  \n",
      "8031           0.429032          0.045806                      1394.29  \n",
      "6285           0.384194          0.004516                      1267.21  \n",
      "2297           0.473548          0.110000                      1778.50  \n",
      "6179           0.488387          0.046452                      1013.13  \n",
      "4796           0.450000          0.000000                       651.43  \n",
      "\n",
      "[5 rows x 118 columns]\n",
      "      yield\n",
      "8031   49.3\n",
      "6285   12.2\n",
      "2297   29.0\n",
      "6179   24.0\n",
      "4796   56.5\n",
      "\n",
      "      yield\n",
      "8031   49.3\n",
      "6285   12.2\n",
      "2297   29.0\n",
      "6179   24.0\n",
      "4796   56.5\n",
      "\n",
      "(6860, 118)\n",
      "(1715, 118)\n",
      "(6860, 1)\n",
      "(1715, 1)\n",
      "\n",
      "49.3\n"
     ]
    }
   ],
   "source": [
    "# For this pipeline I will do random shuffling of the input records before separating the test set\n",
    "# Choosing random_state=0 (or any specific integer) will ensure that different runs will use same shuffle\n",
    "\n",
    "X_train, X_test, y_train, y_test = train_test_split(X, y, test_size=0.2, random_state=0)\n",
    "\n",
    "# keeping a copy of y_test, because it may get modified below\n",
    "y_test_orig = y_test.copy()\n",
    "\n",
    "print(X_train.head())\n",
    "print(y_train.head())\n",
    "print(X_test.head())\n",
    "print(y_test.head())\n",
    "print()\n",
    "print(y_test_orig.head())\n",
    "# note: index of first row in y_test_orig is 7397)\n",
    "\n",
    "print()\n",
    "print(X_train.shape)\n",
    "print(X_test.shape)\n",
    "print(y_train.shape)\n",
    "print(y_test.shape)\n",
    "print()\n",
    "print(y_test.iloc[0,0])"
   ]
  },
  {
   "cell_type": "code",
   "execution_count": 49,
   "id": "b1a2c4c6",
   "metadata": {},
   "outputs": [],
   "source": [
    "X_train = X_train.drop(columns=['year','state_name','county_name'])\n",
    "X_test = X_test.drop(columns=['year','state_name','county_name'])\n",
    "\n",
    "\n",
    "scalerXST = StandardScaler().fit(X_train)\n",
    "scaleryST = StandardScaler().fit(y_train)\n",
    "\n",
    "X_trainST = scalerXST.transform(X_train)\n",
    "y_trainST = scaleryST.transform(y_train)\n",
    "X_testST = scalerXST.transform(X_test)\n",
    "y_testST = scaleryST.transform(y_test)\n",
    "\n"
   ]
  },
  {
   "cell_type": "code",
   "execution_count": 50,
   "id": "bd21ea60",
   "metadata": {},
   "outputs": [
    {
     "name": "stdout",
     "output_type": "stream",
     "text": [
      "54.3\n",
      "[0.84426362]\n",
      "[49.3]\n"
     ]
    }
   ],
   "source": [
    "# testing how inverse of the scaling is working\n",
    "\n",
    "# basically, if scalery was your scaling function, then use scalery.inverse_transform;\n",
    "#   NOTE: this works on a sequence\n",
    "\n",
    "print(df_ml.iloc[7397]['yield'])   #  the first entry in y_test has index 1277 from df_ml\n",
    "print(y_testST[0]) #.loc[[1277]])\n",
    "print(scaleryST.inverse_transform(y_testST)[0])"
   ]
  },
  {
   "cell_type": "markdown",
   "id": "56c1ab5c",
   "metadata": {},
   "source": [
    "## Lasso"
   ]
  },
  {
   "cell_type": "code",
   "execution_count": 123,
   "id": "529c6d90",
   "metadata": {},
   "outputs": [
    {
     "data": {
      "text/plain": [
       "Lasso(alpha=0.1)"
      ]
     },
     "execution_count": 123,
     "metadata": {},
     "output_type": "execute_result"
    }
   ],
   "source": [
    "# confusingly, you set the \"lambda\" variable of LASSO algorithm using the parameter \"alpha\"\n",
    "# alpha can take values between 0 and 1; using 1.0 is \"full penalty\", so maximum attempts to remove features\n",
    "# lassoST = Lasso(alpha=1.0)\n",
    "# lassoST = Lasso(alpha=0.5)\n",
    "# lassoST = Lasso(alpha=0.2)\n",
    "lassoST = Lasso(alpha=0.1)\n",
    "# lassoST = Lasso(alpha=0.01)\n",
    "lassoST.fit(X_trainST, y_trainST)"
   ]
  },
  {
   "cell_type": "code",
   "execution_count": 124,
   "id": "d61dff94",
   "metadata": {},
   "outputs": [
    {
     "name": "stdout",
     "output_type": "stream",
     "text": [
      "[ 0.21572906 -0.60756445 -0.40812454 ... -0.44643337 -0.25522481\n",
      " -0.12301852]\n"
     ]
    }
   ],
   "source": [
    "y_predST = lassoST.predict(X_testST)\n",
    "\n",
    "print(y_predST)"
   ]
  },
  {
   "cell_type": "code",
   "execution_count": 127,
   "id": "7703753d",
   "metadata": {},
   "outputs": [
    {
     "name": "stdout",
     "output_type": "stream",
     "text": [
      "0.8314284927025481\n",
      "1.6628569854050963\n",
      "0.3243169246191503\n"
     ]
    }
   ],
   "source": [
    "import math\n",
    "\n",
    "rmseST = math.sqrt(mean_squared_error(y_testST, y_predST))\n",
    "rrmseST = rmseST / (0.5)\n",
    "r2ST = r2_score(y_testST, y_predST)\n",
    "print(rmseST)\n",
    "print(rrmseST)\n",
    "print(r2ST)"
   ]
  },
  {
   "cell_type": "code",
   "execution_count": 128,
   "id": "2ed30c7a",
   "metadata": {},
   "outputs": [
    {
     "data": {
      "image/png": "[encoded data removed]",
      "text/plain": [
       "<Figure size 432x288 with 1 Axes>"
      ]
     },
     "metadata": {
      "needs_background": "light"
     },
     "output_type": "display_data"
    }
   ],
   "source": [
    "# from chatGPT!\n",
    "\n",
    "import numpy as np\n",
    "import matplotlib.pyplot as plt\n",
    "\n",
    "def plot_predictions(y_test, y_pred, descrip_of_run):\n",
    "    # Check if the arrays have the same length\n",
    "    if len(y_test) != len(y_pred):\n",
    "        raise ValueError(\"The input arrays must have the same length.\")\n",
    "\n",
    "    # Create a scatter plot\n",
    "    plt.scatter(y_test, y_pred)\n",
    "    plt.plot(y_test, y_test, color='red', linestyle='--')  # Line y_pred = y_test\n",
    "    plt.xlabel('y_test')\n",
    "    plt.ylabel('y_pred')\n",
    "    plt.title('Predicted vs Actual for ' + descrip_of_run)\n",
    "    plt.grid(True)\n",
    "    plt.show()\n",
    "\n",
    "# Example usage\n",
    "# y_test = np.array([1, 2, 3, 4, 5])\n",
    "# y_pred = np.array([1.1, 1.9, 3.2, 3.8, 4.9])\n",
    "\n",
    "plot_predictions(y_testST, y_predST, 'Lasso with StandardScalar')\n"
   ]
  },
  {
   "cell_type": "markdown",
   "id": "b487ea5b",
   "metadata": {},
   "source": [
    "## Standard Linear regression"
   ]
  },
  {
   "cell_type": "code",
   "execution_count": 111,
   "id": "f0780da2",
   "metadata": {},
   "outputs": [],
   "source": [
    "linearST = LinearRegression()"
   ]
  },
  {
   "cell_type": "code",
   "execution_count": 112,
   "id": "b0547dbf",
   "metadata": {},
   "outputs": [
    {
     "name": "stdout",
     "output_type": "stream",
     "text": [
      "<class 'numpy.ndarray'>\n"
     ]
    },
    {
     "data": {
      "text/plain": [
       "LinearRegression()"
      ]
     },
     "execution_count": 112,
     "metadata": {},
     "output_type": "execute_result"
    }
   ],
   "source": [
    "print(type(y_trainST))\n",
    "\n",
    "linearST.fit(X_trainST,y_trainST)"
   ]
  },
  {
   "cell_type": "code",
   "execution_count": 113,
   "id": "603d9f95",
   "metadata": {},
   "outputs": [
    {
     "name": "stdout",
     "output_type": "stream",
     "text": [
      "0.724172697469275\n",
      "1.44834539493855\n",
      "0.4874012673866416\n"
     ]
    },
    {
     "data": {
      "image/png": "[encoded data removed]",
      "text/plain": [
       "<Figure size 432x288 with 1 Axes>"
      ]
     },
     "metadata": {
      "needs_background": "light"
     },
     "output_type": "display_data"
    }
   ],
   "source": [
    "y_predST = linearST.predict(X_testST)\n",
    "\n",
    "rmseST = math.sqrt(mean_squared_error(y_testST, y_predST))\n",
    "rrmseST = rmseST / (0.5)\n",
    "r2ST = r2_score(y_testST, y_predST)\n",
    "print(rmseST)\n",
    "print(rrmseST)\n",
    "print(r2ST)\n",
    "\n",
    "\n",
    "plot_predictions(y_testST, y_predST, 'Linear Regression using StandardScaler')\n"
   ]
  },
  {
   "cell_type": "markdown",
   "id": "ac56d953",
   "metadata": {},
   "source": [
    "## Min Max Linear regression"
   ]
  },
  {
   "cell_type": "code",
   "execution_count": 99,
   "id": "dafb1168",
   "metadata": {},
   "outputs": [],
   "source": [
    "scalerXMM = MinMaxScaler().fit(X_train)\n",
    "scaleryMM = MinMaxScaler().fit(y_train)\n",
    "\n",
    "X_trainMM = scalerXMM.transform(X_train)\n",
    "y_trainMM = scaleryMM.transform(y_train)\n",
    "X_testMM = scalerXMM.transform(X_test)\n",
    "y_testMM = scaleryMM.transform(y_test)\n",
    "\n"
   ]
  },
  {
   "cell_type": "code",
   "execution_count": 100,
   "id": "53f9df82",
   "metadata": {},
   "outputs": [
    {
     "name": "stdout",
     "output_type": "stream",
     "text": [
      "54.3\n",
      "[0.40912863]\n",
      "[49.3]\n"
     ]
    }
   ],
   "source": [
    "# testing how inverse of the scaling is working with MinMaxScaler\n",
    "\n",
    "print(df_ml.iloc[7397]['yield'])   #  the first entry in y_test has index 1277 from df_ml\n",
    "print(y_testMM[0])\n",
    "print(scaleryMM.inverse_transform(y_testMM)[0])"
   ]
  },
  {
   "cell_type": "code",
   "execution_count": 101,
   "id": "740b9471",
   "metadata": {},
   "outputs": [
    {
     "name": "stdout",
     "output_type": "stream",
     "text": [
      "0.08484691822751057\n",
      "0.16969383645502115\n",
      "0.4874030243231082\n"
     ]
    },
    {
     "data": {
      "image/png": "[encoded data removed]",
      "text/plain": [
       "<Figure size 432x288 with 1 Axes>"
      ]
     },
     "metadata": {
      "needs_background": "light"
     },
     "output_type": "display_data"
    }
   ],
   "source": [
    "linearMM = LinearRegression()\n",
    "\n",
    "linearMM.fit(X_trainMM,y_trainMM)\n",
    "\n",
    "y_predMM = linearMM.predict(X_testMM)\n",
    "\n",
    "rmseMM = math.sqrt(mean_squared_error(y_testMM, y_predMM))\n",
    "rrmseMM = rmseMM / (0.5)\n",
    "r2MM = r2_score(y_testMM, y_predMM)\n",
    "print(rmseMM)\n",
    "print(rrmseMM)\n",
    "print(r2MM)\n",
    "\n",
    "\n",
    "plot_predictions(y_testMM, y_predMM, 'Linear Regression using MinMaxScaler')\n",
    "\n"
   ]
  },
  {
   "cell_type": "markdown",
   "id": "aa0b5216",
   "metadata": {},
   "source": [
    "# Random forest"
   ]
  },
  {
   "cell_type": "code",
   "execution_count": 147,
   "id": "86ae1e0c",
   "metadata": {},
   "outputs": [
    {
     "name": "stdout",
     "output_type": "stream",
     "text": [
      "0.06170941135743185\n",
      "0.1234188227148637\n",
      "0.7288518150799632\n"
     ]
    },
    {
     "data": {
      "image/png": "[encoded data removed]",
      "text/plain": [
       "<Figure size 432x288 with 1 Axes>"
      ]
     },
     "metadata": {
      "needs_background": "light"
     },
     "output_type": "display_data"
    }
   ],
   "source": [
    "# random forest regressor\n",
    "# regrMM = RandomForestRegressor(max_depth=2, random_state=0)\n",
    "#   with depth 2\n",
    "# 0.09689507428739876\n",
    "# 0.1937901485747975\n",
    "# 0.3314909449993473\n",
    "# regrMM = RandomForestRegressor(max_depth=10, random_state=0)\n",
    "#   with depth 10:\n",
    "# 0.06397662809467218\n",
    "# 0.12795325618934436\n",
    "# 0.7085617250365808\n",
    "regrMM = RandomForestRegressor(max_depth=20, random_state=0)\n",
    "#   with depth 20:\n",
    "# 0.06170941135743185\n",
    "# 0.1234188227148637\n",
    "# 0.7288518150799632\n",
    "\n",
    "# with depth 30:\n",
    "# 0.06173892378020676\n",
    "# 0.12347784756041352\n",
    "# 0.7285924007306489\n",
    "\n",
    "# for some reason, need to use y_trainMM.ravel() rather than simply y_trainMM\n",
    "regrMM.fit(X_trainMM, y_trainMM.ravel())\n",
    "\n",
    "y_predMM = regrMM.predict(X_testMM)\n",
    "rmseMM = math.sqrt(mean_squared_error(y_testMM, y_predMM))\n",
    "rrmseMM = rmseMM / (0.5)\n",
    "r2MM = r2_score(y_testMM, y_predMM)\n",
    "print(rmseMM)\n",
    "print(rrmseMM)\n",
    "print(r2MM)\n",
    "\n",
    "\n",
    "plot_predictions(y_testMM, y_predMM, 'Random Forest Regressor using MinMaxScaler')"
   ]
  },
  {
   "cell_type": "code",
   "execution_count": 146,
   "id": "c667d03a",
   "metadata": {},
   "outputs": [
    {
     "name": "stdout",
     "output_type": "stream",
     "text": [
      "0.060561952415308665\n",
      "0.12112390483061733\n",
      "0.738841822368957\n"
     ]
    },
    {
     "data": {
      "image/png": "[encoded data removed]",
      "text/plain": [
       "<Figure size 432x288 with 1 Axes>"
      ]
     },
     "metadata": {
      "needs_background": "light"
     },
     "output_type": "display_data"
    }
   ],
   "source": [
    "# random forest regressor\n",
    "# regrMM = RandomForestRegressor(max_depth=2, random_state=0)\n",
    "#   with depth 2\n",
    "# 0.09689507428739876\n",
    "# 0.1937901485747975\n",
    "# 0.3314909449993473\n",
    "\n",
    "# regrMM = GradientBoostingRegressor(max_depth=5, random_state=0)\n",
    "# 0.06248140444921901\n",
    "# 0.12496280889843801\n",
    "# 0.7220251784274679\n",
    "\n",
    "# regrMM = GradientBoostingRegressor(max_depth=6, random_state=0)\n",
    "# 0.060561952415308665\n",
    "# 0.12112390483061733\n",
    "# 0.738841822368957\n",
    "\n",
    "regrMM = GradientBoostingRegressor(max_depth=7, random_state=0)\n",
    "# 0.060292341370410965\n",
    "# 0.12058468274082193\n",
    "# 0.7411619060993684\n",
    "\n",
    "# regrMM = GradientBoostingRegressor(max_depth=8, random_state=0)\n",
    "# 0.05947971829270693\n",
    "# 0.11895943658541386\n",
    "# 0.7480921507106322\n",
    "\n",
    "# regrMM = GradientBoostingRegressor(max_depth=7, random_state=0)\n",
    "# 0.06030470869466722\n",
    "# 0.12060941738933444\n",
    "# 0.7410557081021778\n",
    "\n",
    "# regrMM = GradientBoostingRegressor(max_depth=10, random_state=0)\n",
    "# 0.061367325378253915\n",
    "# 0.12273465075650783\n",
    "# 0.7318497012691665\n",
    "\n",
    "#   with depth 20:\n",
    "# 0.06170941135743185\n",
    "# 0.1234188227148637\n",
    "# 0.7288518150799632\n",
    "\n",
    "# with depth 30:\n",
    "# 0.06173892378020676\n",
    "# 0.12347784756041352\n",
    "# 0.7285924007306489\n",
    "\n",
    "# for some reason, need to use y_trainMM.ravel() rather than simply y_trainMM\n",
    "regrMM.fit(X_trainMM, y_trainMM.ravel())\n",
    "\n",
    "y_predMM = regrMM.predict(X_testMM)\n",
    "rmseMM = math.sqrt(mean_squared_error(y_testMM, y_predMM))\n",
    "rrmseMM = rmseMM / (0.5)\n",
    "r2MM = r2_score(y_testMM, y_predMM)\n",
    "print(rmseMM)\n",
    "print(rrmseMM)\n",
    "print(r2MM)\n",
    "\n",
    "\n",
    "plot_predictions(y_testMM, y_predMM, 'Random Forest Regressor using MinMaxScaler')\n"
   ]
  },
  {
   "cell_type": "code",
   "execution_count": null,
   "id": "010ccb63",
   "metadata": {},
   "outputs": [],
   "source": []
  },
  {
   "cell_type": "code",
   "execution_count": null,
   "id": "1f00b0e3",
   "metadata": {},
   "outputs": [],
   "source": []
  },
  {
   "cell_type": "code",
   "execution_count": null,
   "id": "973e36fe",
   "metadata": {},
   "outputs": [],
   "source": []
  }
 ],
 "metadata": {
  "kernelspec": {
   "display_name": "Python 3 (ipykernel)",
   "language": "python",
   "name": "python3"
  },
  "language_info": {
   "codemirror_mode": {
    "name": "ipython",
    "version": 3
   },
   "file_extension": ".py",
   "mimetype": "text/x-python",
   "name": "python",
   "nbconvert_exporter": "python",
   "pygments_lexer": "ipython3",
   "version": "3.9.12"
  }
 },
 "nbformat": 4,
 "nbformat_minor": 5
}
