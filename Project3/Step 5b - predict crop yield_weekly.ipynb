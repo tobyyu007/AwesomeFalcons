{
 "cells": [
  {
   "cell_type": "code",
   "execution_count": 77,
   "id": "09f2cc59",
   "metadata": {},
   "outputs": [],
   "source": [
    "# pulled this long list from somewhere and added to it.  Not using everything here\n",
    "\n",
    "import pandas as pd\n",
    "import numpy as np\n",
    "from tqdm.auto import tqdm\n",
    "import seaborn as sns\n",
    "import matplotlib.pyplot as plt\n",
    "from sklearn.metrics import (\n",
    "    accuracy_score,\n",
    "    f1_score,\n",
    ")\n",
    "from sklearn.model_selection import  train_test_split\n",
    "from sklearn.ensemble import RandomForestClassifier, RandomForestRegressor\n",
    "from sklearn.linear_model import LogisticRegression, LinearRegression, Lasso\n",
    "from sklearn.neighbors import KNeighborsClassifier, KNeighborsRegressor\n",
    "from sklearn.svm import SVC, SVR\n",
    "from sklearn.preprocessing import StandardScaler\n",
    "from sklearn.preprocessing import MinMaxScaler\n",
    "from sklearn.metrics import precision_recall_fscore_support, mean_squared_error, r2_score\n",
    "\n",
    "from sklearn.model_selection import cross_val_score\n",
    "from sklearn.model_selection import RepeatedKFold\n",
    "\n",
    "from sklearn.ensemble import RandomForestRegressor\n",
    "from sklearn.ensemble import GradientBoostingRegressor\n",
    "from sklearn.datasets import make_regression"
   ]
  },
  {
   "cell_type": "code",
   "execution_count": 166,
   "id": "3e4967e3",
   "metadata": {},
   "outputs": [
    {
     "name": "stderr",
     "output_type": "stream",
     "text": [
      "/var/folders/b9/nh8wdd1s6g12c793c67f2r9r0000gn/T/ipykernel_38011/1158469220.py:6: DtypeWarning: Columns (6,7,8,9,10,11,12,13,14,15,16,17,18,19,20,21,22,23,24,25,26,27,28,29,30,31,32,33,34,35,36,37,38,39,40,41,42,43,44,45,46) have mixed types. Specify dtype option on import or set low_memory=False.\n",
      "  df_ml = pd.read_csv(ml_tables_dir + ml_file).dropna()\n"
     ]
    },
    {
     "name": "stdout",
     "output_type": "stream",
     "text": [
      "(8575, 365)\n",
      "   year state_name county_name  yield  nutr_ret_high  suit_irrig_high_soy  \\\n",
      "0  2000     KANSAS       ALLEN   40.0           10.0              10000.0   \n",
      "1  2000     KANSAS    ANDERSON   44.0           10.0              10000.0   \n",
      "2  2000     KANSAS    ATCHISON   44.0           10.0              10000.0   \n",
      "3  2000     KANSAS      BARBER   37.0           10.0              10000.0   \n",
      "4  2000     KANSAS      BARTON   44.0           10.0              10000.0   \n",
      "\n",
      "   AEZ_1  AEZ_2  AEZ_3  AEZ_4  ... week_51__PRECTOTCORR week_51__GWETROOT  \\\n",
      "0  False  False  False  False  ...                 0.37          0.590000   \n",
      "1  False  False  False  False  ...                 0.33          0.584286   \n",
      "2  False  False  False  False  ...                 1.76          0.577143   \n",
      "3  False  False  False  False  ...                 0.28          0.450000   \n",
      "4  False  False  False  False  ...                 1.84          0.474286   \n",
      "\n",
      "  week_51__EVPTRNS week_51__ALLSKY_SFC_PAR_TOT week_52__T2M_MAX  \\\n",
      "0              0.0                       365.8        -3.005714   \n",
      "1              0.0                       338.5        -3.307143   \n",
      "2              0.0                       309.9        -4.500000   \n",
      "3              0.0                       370.7         0.657143   \n",
      "4              0.0                       333.7        -0.072857   \n",
      "\n",
      "  week_52__T2M_MIN week_52__PRECTOTCORR week_52__GWETROOT week_52__EVPTRNS  \\\n",
      "0       -11.340000                 3.25          0.590000              0.0   \n",
      "1       -11.335714                 3.61          0.585714              0.0   \n",
      "2       -12.331429                 2.18          0.575714              0.0   \n",
      "3        -7.471429                15.06          0.455714              0.0   \n",
      "4        -9.117143                 4.45          0.477143              0.0   \n",
      "\n",
      "  week_52__ALLSKY_SFC_PAR_TOT  \n",
      "0                       336.8  \n",
      "1                       343.0  \n",
      "2                       329.5  \n",
      "3                       284.4  \n",
      "4                       282.4  \n",
      "\n",
      "[5 rows x 365 columns]\n",
      "False\n"
     ]
    }
   ],
   "source": [
    "ml_tables_dir = './ML_data/'\n",
    "\n",
    "ml_file = 'ML-table-weekly.csv'\n",
    "\n",
    "\n",
    "df_ml = pd.read_csv(ml_tables_dir + ml_file).dropna()\n",
    "print(df_ml.shape)\n",
    "print(df_ml.head())\n",
    "\n",
    "# Happily, there are no null values in my ML table\n",
    "print(df_ml.isnull().values.any())\n",
    "# yields False"
   ]
  },
  {
   "cell_type": "code",
   "execution_count": 204,
   "id": "fd3f9a01",
   "metadata": {},
   "outputs": [
    {
     "name": "stdout",
     "output_type": "stream",
     "text": [
      "8575\n"
     ]
    }
   ],
   "source": [
    "print(len(df_ml))"
   ]
  },
  {
   "cell_type": "code",
   "execution_count": 167,
   "id": "0dcbd71b",
   "metadata": {},
   "outputs": [
    {
     "name": "stdout",
     "output_type": "stream",
     "text": [
      "Index(['year', 'state_name', 'county_name', 'yield', 'nutr_ret_high',\n",
      "       'suit_irrig_high_soy', 'AEZ_1', 'AEZ_2', 'AEZ_3', 'AEZ_4',\n",
      "       ...\n",
      "       'week_51__PRECTOTCORR', 'week_51__GWETROOT', 'week_51__EVPTRNS',\n",
      "       'week_51__ALLSKY_SFC_PAR_TOT', 'week_52__T2M_MAX', 'week_52__T2M_MIN',\n",
      "       'week_52__PRECTOTCORR', 'week_52__GWETROOT', 'week_52__EVPTRNS',\n",
      "       'week_52__ALLSKY_SFC_PAR_TOT'],\n",
      "      dtype='object', length=365)\n"
     ]
    }
   ],
   "source": [
    "print(df_ml.columns)"
   ]
  },
  {
   "cell_type": "code",
   "execution_count": 168,
   "id": "fcde4e95",
   "metadata": {},
   "outputs": [
    {
     "name": "stdout",
     "output_type": "stream",
     "text": [
      "0 year\n",
      "0 state_name\n",
      "0 county_name\n",
      "0 yield\n",
      "0 nutr_ret_high\n",
      "0 suit_irrig_high_soy\n",
      "0 AEZ_1\n",
      "0 AEZ_2\n",
      "0 AEZ_3\n",
      "0 AEZ_4\n",
      "0 AEZ_5\n",
      "0 AEZ_6\n",
      "0 AEZ_7\n",
      "0 AEZ_8\n",
      "0 AEZ_9\n",
      "0 AEZ_10\n",
      "0 AEZ_11\n",
      "0 AEZ_12\n",
      "0 AEZ_13\n",
      "0 AEZ_14\n",
      "0 AEZ_15\n",
      "0 AEZ_16\n",
      "0 AEZ_17\n",
      "0 AEZ_18\n",
      "0 AEZ_19\n",
      "0 AEZ_20\n",
      "0 AEZ_21\n",
      "0 SQH_1\n",
      "0 SQH_2\n",
      "0 SQH_3\n",
      "0 SQH_4\n",
      "0 SQH_5\n",
      "0 SQH_6\n",
      "0 SQH_7\n",
      "0 SQH_8\n",
      "0 SQH_9\n",
      "0 SQH_10\n",
      "0 SQL_1\n",
      "0 SQL_2\n",
      "0 SQL_3\n",
      "0 SQL_4\n",
      "0 SQL_5\n",
      "0 SQL_6\n",
      "0 SQL_7\n",
      "0 SQL_8\n",
      "0 SQL_9\n",
      "0 SQL_10\n",
      "0 week_00__T2M_MAX\n",
      "0 week_00__T2M_MIN\n",
      "0 week_00__PRECTOTCORR\n",
      "0 week_00__GWETROOT\n",
      "0 week_00__EVPTRNS\n",
      "0 week_00__ALLSKY_SFC_PAR_TOT\n",
      "0 week_01__T2M_MAX\n",
      "0 week_01__T2M_MIN\n",
      "0 week_01__PRECTOTCORR\n",
      "0 week_01__GWETROOT\n",
      "0 week_01__EVPTRNS\n",
      "0 week_01__ALLSKY_SFC_PAR_TOT\n",
      "0 week_02__T2M_MAX\n",
      "0 week_02__T2M_MIN\n",
      "0 week_02__PRECTOTCORR\n",
      "0 week_02__GWETROOT\n",
      "0 week_02__EVPTRNS\n",
      "0 week_02__ALLSKY_SFC_PAR_TOT\n",
      "0 week_03__T2M_MAX\n",
      "0 week_03__T2M_MIN\n",
      "0 week_03__PRECTOTCORR\n",
      "0 week_03__GWETROOT\n",
      "0 week_03__EVPTRNS\n",
      "0 week_03__ALLSKY_SFC_PAR_TOT\n",
      "0 week_04__T2M_MAX\n",
      "0 week_04__T2M_MIN\n",
      "0 week_04__PRECTOTCORR\n",
      "0 week_04__GWETROOT\n",
      "0 week_04__EVPTRNS\n",
      "0 week_04__ALLSKY_SFC_PAR_TOT\n",
      "0 week_05__T2M_MAX\n",
      "0 week_05__T2M_MIN\n",
      "0 week_05__PRECTOTCORR\n",
      "0 week_05__GWETROOT\n",
      "0 week_05__EVPTRNS\n",
      "0 week_05__ALLSKY_SFC_PAR_TOT\n",
      "0 week_06__T2M_MAX\n",
      "0 week_06__T2M_MIN\n",
      "0 week_06__PRECTOTCORR\n",
      "0 week_06__GWETROOT\n",
      "0 week_06__EVPTRNS\n",
      "0 week_06__ALLSKY_SFC_PAR_TOT\n",
      "0 week_07__T2M_MAX\n",
      "0 week_07__T2M_MIN\n",
      "0 week_07__PRECTOTCORR\n",
      "0 week_07__GWETROOT\n",
      "0 week_07__EVPTRNS\n",
      "0 week_07__ALLSKY_SFC_PAR_TOT\n",
      "0 week_08__T2M_MAX\n",
      "0 week_08__T2M_MIN\n",
      "0 week_08__PRECTOTCORR\n",
      "0 week_08__GWETROOT\n",
      "0 week_08__EVPTRNS\n",
      "0 week_08__ALLSKY_SFC_PAR_TOT\n",
      "0 week_09__T2M_MAX\n",
      "0 week_09__T2M_MIN\n",
      "0 week_09__PRECTOTCORR\n",
      "0 week_09__GWETROOT\n",
      "0 week_09__EVPTRNS\n",
      "0 week_09__ALLSKY_SFC_PAR_TOT\n",
      "0 week_10__T2M_MAX\n",
      "0 week_10__T2M_MIN\n",
      "0 week_10__PRECTOTCORR\n",
      "0 week_10__GWETROOT\n",
      "0 week_10__EVPTRNS\n",
      "0 week_10__ALLSKY_SFC_PAR_TOT\n",
      "0 week_11__T2M_MAX\n",
      "0 week_11__T2M_MIN\n",
      "0 week_11__PRECTOTCORR\n",
      "0 week_11__GWETROOT\n",
      "0 week_11__EVPTRNS\n",
      "0 week_11__ALLSKY_SFC_PAR_TOT\n",
      "0 week_12__T2M_MAX\n",
      "0 week_12__T2M_MIN\n",
      "0 week_12__PRECTOTCORR\n",
      "0 week_12__GWETROOT\n",
      "0 week_12__EVPTRNS\n",
      "0 week_12__ALLSKY_SFC_PAR_TOT\n",
      "0 week_13__T2M_MAX\n",
      "0 week_13__T2M_MIN\n",
      "0 week_13__PRECTOTCORR\n",
      "0 week_13__GWETROOT\n",
      "0 week_13__EVPTRNS\n",
      "0 week_13__ALLSKY_SFC_PAR_TOT\n",
      "0 week_14__T2M_MAX\n",
      "0 week_14__T2M_MIN\n",
      "0 week_14__PRECTOTCORR\n",
      "0 week_14__GWETROOT\n",
      "0 week_14__EVPTRNS\n",
      "0 week_14__ALLSKY_SFC_PAR_TOT\n",
      "0 week_15__T2M_MAX\n",
      "0 week_15__T2M_MIN\n",
      "0 week_15__PRECTOTCORR\n",
      "0 week_15__GWETROOT\n",
      "0 week_15__EVPTRNS\n",
      "0 week_15__ALLSKY_SFC_PAR_TOT\n",
      "0 week_16__T2M_MAX\n",
      "0 week_16__T2M_MIN\n",
      "0 week_16__PRECTOTCORR\n",
      "0 week_16__GWETROOT\n",
      "0 week_16__EVPTRNS\n",
      "0 week_16__ALLSKY_SFC_PAR_TOT\n",
      "0 week_17__T2M_MAX\n",
      "0 week_17__T2M_MIN\n",
      "0 week_17__PRECTOTCORR\n",
      "0 week_17__GWETROOT\n",
      "0 week_17__EVPTRNS\n",
      "0 week_17__ALLSKY_SFC_PAR_TOT\n",
      "0 week_18__T2M_MAX\n",
      "0 week_18__T2M_MIN\n",
      "0 week_18__PRECTOTCORR\n",
      "0 week_18__GWETROOT\n",
      "0 week_18__EVPTRNS\n",
      "0 week_18__ALLSKY_SFC_PAR_TOT\n",
      "0 week_19__T2M_MAX\n",
      "0 week_19__T2M_MIN\n",
      "0 week_19__PRECTOTCORR\n",
      "0 week_19__GWETROOT\n",
      "0 week_19__EVPTRNS\n",
      "0 week_19__ALLSKY_SFC_PAR_TOT\n",
      "0 week_20__T2M_MAX\n",
      "0 week_20__T2M_MIN\n",
      "0 week_20__PRECTOTCORR\n",
      "0 week_20__GWETROOT\n",
      "0 week_20__EVPTRNS\n",
      "0 week_20__ALLSKY_SFC_PAR_TOT\n",
      "0 week_21__T2M_MAX\n",
      "0 week_21__T2M_MIN\n",
      "0 week_21__PRECTOTCORR\n",
      "0 week_21__GWETROOT\n",
      "0 week_21__EVPTRNS\n",
      "0 week_21__ALLSKY_SFC_PAR_TOT\n",
      "0 week_22__T2M_MAX\n",
      "0 week_22__T2M_MIN\n",
      "0 week_22__PRECTOTCORR\n",
      "0 week_22__GWETROOT\n",
      "0 week_22__EVPTRNS\n",
      "0 week_22__ALLSKY_SFC_PAR_TOT\n",
      "0 week_23__T2M_MAX\n",
      "0 week_23__T2M_MIN\n",
      "0 week_23__PRECTOTCORR\n",
      "0 week_23__GWETROOT\n",
      "0 week_23__EVPTRNS\n",
      "0 week_23__ALLSKY_SFC_PAR_TOT\n",
      "0 week_24__T2M_MAX\n",
      "0 week_24__T2M_MIN\n",
      "0 week_24__PRECTOTCORR\n",
      "0 week_24__GWETROOT\n",
      "0 week_24__EVPTRNS\n",
      "0 week_24__ALLSKY_SFC_PAR_TOT\n",
      "0 week_25__T2M_MAX\n",
      "0 week_25__T2M_MIN\n",
      "0 week_25__PRECTOTCORR\n",
      "0 week_25__GWETROOT\n",
      "0 week_25__EVPTRNS\n",
      "0 week_25__ALLSKY_SFC_PAR_TOT\n",
      "0 week_26__T2M_MAX\n",
      "0 week_26__T2M_MIN\n",
      "0 week_26__PRECTOTCORR\n",
      "0 week_26__GWETROOT\n",
      "0 week_26__EVPTRNS\n",
      "0 week_26__ALLSKY_SFC_PAR_TOT\n",
      "0 week_27__T2M_MAX\n",
      "0 week_27__T2M_MIN\n",
      "0 week_27__PRECTOTCORR\n",
      "0 week_27__GWETROOT\n",
      "0 week_27__EVPTRNS\n",
      "0 week_27__ALLSKY_SFC_PAR_TOT\n",
      "0 week_28__T2M_MAX\n",
      "0 week_28__T2M_MIN\n",
      "0 week_28__PRECTOTCORR\n",
      "0 week_28__GWETROOT\n",
      "0 week_28__EVPTRNS\n",
      "0 week_28__ALLSKY_SFC_PAR_TOT\n",
      "0 week_29__T2M_MAX\n",
      "0 week_29__T2M_MIN\n",
      "0 week_29__PRECTOTCORR\n",
      "0 week_29__GWETROOT\n",
      "0 week_29__EVPTRNS\n",
      "0 week_29__ALLSKY_SFC_PAR_TOT\n",
      "0 week_30__T2M_MAX\n",
      "0 week_30__T2M_MIN\n",
      "0 week_30__PRECTOTCORR\n",
      "0 week_30__GWETROOT\n",
      "0 week_30__EVPTRNS\n",
      "0 week_30__ALLSKY_SFC_PAR_TOT\n",
      "0 week_31__T2M_MAX\n",
      "0 week_31__T2M_MIN\n",
      "0 week_31__PRECTOTCORR\n",
      "0 week_31__GWETROOT\n",
      "0 week_31__EVPTRNS\n",
      "0 week_31__ALLSKY_SFC_PAR_TOT\n",
      "0 week_32__T2M_MAX\n",
      "0 week_32__T2M_MIN\n",
      "0 week_32__PRECTOTCORR\n",
      "0 week_32__GWETROOT\n",
      "0 week_32__EVPTRNS\n",
      "0 week_32__ALLSKY_SFC_PAR_TOT\n",
      "0 week_33__T2M_MAX\n",
      "0 week_33__T2M_MIN\n",
      "0 week_33__PRECTOTCORR\n",
      "0 week_33__GWETROOT\n",
      "0 week_33__EVPTRNS\n",
      "0 week_33__ALLSKY_SFC_PAR_TOT\n",
      "0 week_34__T2M_MAX\n",
      "0 week_34__T2M_MIN\n",
      "0 week_34__PRECTOTCORR\n",
      "0 week_34__GWETROOT\n",
      "0 week_34__EVPTRNS\n",
      "0 week_34__ALLSKY_SFC_PAR_TOT\n",
      "0 week_35__T2M_MAX\n",
      "0 week_35__T2M_MIN\n",
      "0 week_35__PRECTOTCORR\n",
      "0 week_35__GWETROOT\n",
      "0 week_35__EVPTRNS\n",
      "0 week_35__ALLSKY_SFC_PAR_TOT\n",
      "0 week_36__T2M_MAX\n",
      "0 week_36__T2M_MIN\n",
      "0 week_36__PRECTOTCORR\n",
      "0 week_36__GWETROOT\n",
      "0 week_36__EVPTRNS\n",
      "0 week_36__ALLSKY_SFC_PAR_TOT\n",
      "0 week_37__T2M_MAX\n",
      "0 week_37__T2M_MIN\n",
      "0 week_37__PRECTOTCORR\n",
      "0 week_37__GWETROOT\n",
      "0 week_37__EVPTRNS\n",
      "0 week_37__ALLSKY_SFC_PAR_TOT\n",
      "0 week_38__T2M_MAX\n",
      "0 week_38__T2M_MIN\n",
      "0 week_38__PRECTOTCORR\n",
      "0 week_38__GWETROOT\n",
      "0 week_38__EVPTRNS\n",
      "0 week_38__ALLSKY_SFC_PAR_TOT\n",
      "0 week_39__T2M_MAX\n",
      "0 week_39__T2M_MIN\n",
      "0 week_39__PRECTOTCORR\n",
      "0 week_39__GWETROOT\n",
      "0 week_39__EVPTRNS\n",
      "0 week_39__ALLSKY_SFC_PAR_TOT\n",
      "0 week_40__T2M_MAX\n",
      "0 week_40__T2M_MIN\n",
      "0 week_40__PRECTOTCORR\n",
      "0 week_40__GWETROOT\n",
      "0 week_40__EVPTRNS\n",
      "0 week_40__ALLSKY_SFC_PAR_TOT\n",
      "0 week_41__T2M_MAX\n",
      "0 week_41__T2M_MIN\n",
      "0 week_41__PRECTOTCORR\n",
      "0 week_41__GWETROOT\n",
      "0 week_41__EVPTRNS\n",
      "0 week_41__ALLSKY_SFC_PAR_TOT\n",
      "0 week_42__T2M_MAX\n",
      "0 week_42__T2M_MIN\n",
      "0 week_42__PRECTOTCORR\n",
      "0 week_42__GWETROOT\n",
      "0 week_42__EVPTRNS\n",
      "0 week_42__ALLSKY_SFC_PAR_TOT\n",
      "0 week_43__T2M_MAX\n",
      "0 week_43__T2M_MIN\n",
      "0 week_43__PRECTOTCORR\n",
      "0 week_43__GWETROOT\n",
      "0 week_43__EVPTRNS\n",
      "0 week_43__ALLSKY_SFC_PAR_TOT\n",
      "0 week_44__T2M_MAX\n",
      "0 week_44__T2M_MIN\n",
      "0 week_44__PRECTOTCORR\n",
      "0 week_44__GWETROOT\n",
      "0 week_44__EVPTRNS\n",
      "0 week_44__ALLSKY_SFC_PAR_TOT\n",
      "0 week_45__T2M_MAX\n",
      "0 week_45__T2M_MIN\n",
      "0 week_45__PRECTOTCORR\n",
      "0 week_45__GWETROOT\n",
      "0 week_45__EVPTRNS\n",
      "0 week_45__ALLSKY_SFC_PAR_TOT\n",
      "0 week_46__T2M_MAX\n",
      "0 week_46__T2M_MIN\n",
      "0 week_46__PRECTOTCORR\n",
      "0 week_46__GWETROOT\n",
      "0 week_46__EVPTRNS\n",
      "0 week_46__ALLSKY_SFC_PAR_TOT\n",
      "0 week_47__T2M_MAX\n",
      "0 week_47__T2M_MIN\n",
      "0 week_47__PRECTOTCORR\n",
      "0 week_47__GWETROOT\n",
      "0 week_47__EVPTRNS\n",
      "0 week_47__ALLSKY_SFC_PAR_TOT\n",
      "0 week_48__T2M_MAX\n",
      "0 week_48__T2M_MIN\n",
      "0 week_48__PRECTOTCORR\n",
      "0 week_48__GWETROOT\n",
      "0 week_48__EVPTRNS\n",
      "0 week_48__ALLSKY_SFC_PAR_TOT\n",
      "0 week_49__T2M_MAX\n",
      "0 week_49__T2M_MIN\n",
      "0 week_49__PRECTOTCORR\n",
      "0 week_49__GWETROOT\n",
      "0 week_49__EVPTRNS\n",
      "0 week_49__ALLSKY_SFC_PAR_TOT\n",
      "0 week_50__T2M_MAX\n",
      "0 week_50__T2M_MIN\n",
      "0 week_50__PRECTOTCORR\n",
      "0 week_50__GWETROOT\n",
      "0 week_50__EVPTRNS\n",
      "0 week_50__ALLSKY_SFC_PAR_TOT\n",
      "0 week_51__T2M_MAX\n",
      "0 week_51__T2M_MIN\n",
      "0 week_51__PRECTOTCORR\n",
      "0 week_51__GWETROOT\n",
      "0 week_51__EVPTRNS\n",
      "0 week_51__ALLSKY_SFC_PAR_TOT\n",
      "0 week_52__T2M_MAX\n",
      "0 week_52__T2M_MIN\n",
      "0 week_52__PRECTOTCORR\n",
      "0 week_52__GWETROOT\n",
      "0 week_52__EVPTRNS\n",
      "0 week_52__ALLSKY_SFC_PAR_TOT\n",
      "8575\n",
      "8575\n"
     ]
    }
   ],
   "source": [
    "df_ml_dropped = df_ml.dropna()\n",
    "for idx, i in enumerate(df_ml_dropped.isnull().sum()):\n",
    "    print(i, df_ml_dropped.columns[idx])\n",
    "print(len(df_ml))\n",
    "print(len(df_ml_dropped))"
   ]
  },
  {
   "cell_type": "code",
   "execution_count": 169,
   "id": "251283e8",
   "metadata": {},
   "outputs": [
    {
     "name": "stdout",
     "output_type": "stream",
     "text": [
      "(8575, 364)\n",
      "(8575, 1)\n"
     ]
    }
   ],
   "source": [
    "X = df_ml.drop(columns=['yield'])\n",
    "y = df_ml.loc[:,['yield']]\n",
    "\n",
    "print(X.shape)\n",
    "print(y.shape)\n",
    " \n",
    "# print(X.head())\n",
    "# print(y.head())"
   ]
  },
  {
   "cell_type": "code",
   "execution_count": 170,
   "id": "3f671bea",
   "metadata": {},
   "outputs": [
    {
     "name": "stdout",
     "output_type": "stream",
     "text": [
      "      year    state_name county_name  nutr_ret_high  suit_irrig_high_soy  \\\n",
      "4518  2009         TEXAS       COOKE           10.0               7778.0   \n",
      "8563  2022         TEXAS       MILAM           10.0               7778.0   \n",
      "9     2000        KANSAS  CHAUTAUQUA           10.0              10000.0   \n",
      "7404  2018         TEXAS        BELL           10.0               7778.0   \n",
      "3723  2007  SOUTH DAKOTA   CODINGTON           10.0              10000.0   \n",
      "\n",
      "      AEZ_1  AEZ_2  AEZ_3  AEZ_4  AEZ_5  ... week_51__PRECTOTCORR  \\\n",
      "4518  False  False  False  False  False  ...                20.06   \n",
      "8563  False  False  False  False  False  ...                12.04   \n",
      "9     False  False  False  False  False  ...                 0.28   \n",
      "7404  False  False  False  False   True  ...                45.28   \n",
      "3723  False  False  False  False  False  ...                 4.29   \n",
      "\n",
      "     week_51__GWETROOT week_51__EVPTRNS week_51__ALLSKY_SFC_PAR_TOT  \\\n",
      "4518          0.695714         0.047143                      342.62   \n",
      "8563       -999.000000      -999.000000                    -6993.00   \n",
      "9             0.511429         0.000000                      362.90   \n",
      "7404          0.762857         0.158571                      273.31   \n",
      "3723          0.450000         0.000000                      188.33   \n",
      "\n",
      "     week_52__T2M_MAX week_52__T2M_MIN week_52__PRECTOTCORR week_52__GWETROOT  \\\n",
      "4518         7.357500        -2.455000                 7.25          0.707500   \n",
      "8563        17.448333         3.468333                53.47       -999.000000   \n",
      "9           -1.841429        -9.368571                 8.74          0.515714   \n",
      "7404        16.780000         4.080000                 3.26          0.780000   \n",
      "3723        -8.600000       -13.260000                 0.30          0.450000   \n",
      "\n",
      "     week_52__EVPTRNS week_52__ALLSKY_SFC_PAR_TOT  \n",
      "4518             0.01                      151.68  \n",
      "8563          -999.00                    -5994.00  \n",
      "9                0.00                      297.60  \n",
      "7404             0.26                       50.95  \n",
      "3723             0.00                       33.04  \n",
      "\n",
      "[5 rows x 364 columns]\n",
      "      yield\n",
      "4518   23.0\n",
      "8563   27.0\n",
      "9      32.0\n",
      "7404   47.9\n",
      "3723   53.9\n",
      "      year    state_name county_name  nutr_ret_high  suit_irrig_high_soy  \\\n",
      "8031  2021        KANSAS      BUTLER           10.0              10000.0   \n",
      "6285  2014         TEXAS    HEMPHILL           10.0               7778.0   \n",
      "2297  2004         TEXAS      BAYLOR           10.0               7778.0   \n",
      "6179  2014      OKLAHOMA      GARVIN           10.0               7778.0   \n",
      "4796  2010  NORTH DAKOTA    WILLIAMS           10.0               7778.0   \n",
      "\n",
      "      AEZ_1  AEZ_2  AEZ_3  AEZ_4  AEZ_5  ... week_51__PRECTOTCORR  \\\n",
      "8031  False  False  False  False  False  ...                 0.01   \n",
      "6285  False  False  False  False  False  ...                 0.03   \n",
      "2297  False  False  False  False   True  ...                 3.25   \n",
      "6179  False  False  False  False  False  ...                 4.92   \n",
      "4796  False  False  False  False  False  ...                10.46   \n",
      "\n",
      "     week_51__GWETROOT week_51__EVPTRNS week_51__ALLSKY_SFC_PAR_TOT  \\\n",
      "8031          0.430000         0.034286                      304.24   \n",
      "6285          0.382857         0.001429                      319.15   \n",
      "2297          0.464286         0.048571                      377.61   \n",
      "6179          0.495714         0.030000                      295.90   \n",
      "4796          0.450000         0.000000                      133.33   \n",
      "\n",
      "     week_52__T2M_MAX week_52__T2M_MIN week_52__PRECTOTCORR week_52__GWETROOT  \\\n",
      "8031        10.104000        -1.798000                 1.32             0.422   \n",
      "6285        -1.106667        -9.903333                 0.03             0.380   \n",
      "2297        18.208000         5.408000                 0.00             0.466   \n",
      "6179         4.193333        -4.250000                 0.02             0.490   \n",
      "4796        -8.388000       -17.206000                 4.23             0.450   \n",
      "\n",
      "     week_52__EVPTRNS week_52__ALLSKY_SFC_PAR_TOT  \n",
      "8031         0.014000                      213.46  \n",
      "6285         0.000000                      106.96  \n",
      "2297         0.128000                      255.49  \n",
      "6179         0.003333                      101.82  \n",
      "4796         0.000000                      116.71  \n",
      "\n",
      "[5 rows x 364 columns]\n",
      "      yield\n",
      "8031   49.3\n",
      "6285   12.2\n",
      "2297   29.0\n",
      "6179   24.0\n",
      "4796   56.5\n",
      "\n",
      "      yield\n",
      "8031   49.3\n",
      "6285   12.2\n",
      "2297   29.0\n",
      "6179   24.0\n",
      "4796   56.5\n",
      "\n",
      "(6860, 364)\n",
      "(1715, 364)\n",
      "(6860, 1)\n",
      "(1715, 1)\n",
      "\n",
      "49.3\n"
     ]
    }
   ],
   "source": [
    "# For this pipeline I will do random shuffling of the input records before separating the test set\n",
    "# Choosing random_state=0 (or any specific integer) will ensure that different runs will use same shuffle\n",
    "\n",
    "X_train, X_test, y_train, y_test = train_test_split(X, y, test_size=0.2, random_state=0)\n",
    "\n",
    "# keeping a copy of y_test, because it may get modified below\n",
    "y_test_orig = y_test.copy()\n",
    "\n",
    "print(X_train.head())\n",
    "print(y_train.head())\n",
    "print(X_test.head())\n",
    "print(y_test.head())\n",
    "print()\n",
    "print(y_test_orig.head())\n",
    "# note: index of first row in y_test_orig is 7397)\n",
    "\n",
    "print()\n",
    "print(X_train.shape)\n",
    "print(X_test.shape)\n",
    "print(y_train.shape)\n",
    "print(y_test.shape)\n",
    "print()\n",
    "print(y_test.iloc[0,0])"
   ]
  },
  {
   "cell_type": "code",
   "execution_count": 171,
   "id": "7e40cbd2",
   "metadata": {},
   "outputs": [],
   "source": [
    "X_train = X_train.drop(columns=['year','state_name','county_name'])\n",
    "X_test = X_test.drop(columns=['year','state_name','county_name'])\n",
    "\n",
    "\n",
    "scalerXST = StandardScaler().fit(X_train)\n",
    "scaleryST = StandardScaler().fit(y_train)\n",
    "\n",
    "X_trainST = scalerXST.transform(X_train)\n",
    "y_trainST = scaleryST.transform(y_train)\n",
    "X_testST = scalerXST.transform(X_test)\n",
    "y_testST = scaleryST.transform(y_test)\n",
    "\n"
   ]
  },
  {
   "cell_type": "code",
   "execution_count": 172,
   "id": "28ec73b5",
   "metadata": {},
   "outputs": [
    {
     "name": "stdout",
     "output_type": "stream",
     "text": [
      "[0.84426362]\n",
      "[49.3]\n"
     ]
    }
   ],
   "source": [
    "# testing how inverse of the scaling is working\n",
    "\n",
    "# basically, if scalery was your scaling function, then use scalery.inverse_transform;\n",
    "#   NOTE: this works on a sequence\n",
    "\n",
    "# print(df_ml.iloc[7397]['yield'])   #  the first entry in y_test has index 1277 from df_ml\n",
    "print(y_testST[0]) #.loc[[1277]])\n",
    "print(scaleryST.inverse_transform(y_testST)[0])"
   ]
  },
  {
   "cell_type": "markdown",
   "id": "42dd5174",
   "metadata": {},
   "source": [
    "## Lasso"
   ]
  },
  {
   "cell_type": "code",
   "execution_count": 173,
   "id": "1211ff3f",
   "metadata": {},
   "outputs": [
    {
     "data": {
      "text/plain": [
       "Lasso(alpha=0.1)"
      ]
     },
     "execution_count": 173,
     "metadata": {},
     "output_type": "execute_result"
    }
   ],
   "source": [
    "# confusingly, you set the \"lambda\" variable of LASSO algorithm using the parameter \"alpha\"\n",
    "# alpha can take values between 0 and 1; using 1.0 is \"full penalty\", so maximum attempts to remove features\n",
    "# lassoST = Lasso(alpha=1.0)\n",
    "# lassoST = Lasso(alpha=0.5)\n",
    "# lassoST = Lasso(alpha=0.2)\n",
    "lassoST = Lasso(alpha=0.1)\n",
    "lassoST.fit(X_trainST, y_trainST)"
   ]
  },
  {
   "cell_type": "code",
   "execution_count": 174,
   "id": "92e5e896",
   "metadata": {},
   "outputs": [
    {
     "name": "stdout",
     "output_type": "stream",
     "text": [
      "[ 0.22719964 -0.62578112 -0.50409719 ... -0.50774649 -0.33024494\n",
      " -0.1949225 ]\n"
     ]
    }
   ],
   "source": [
    "y_predST = lassoST.predict(X_testST)\n",
    "\n",
    "print(y_predST)"
   ]
  },
  {
   "cell_type": "code",
   "execution_count": 175,
   "id": "8ef8c72b",
   "metadata": {},
   "outputs": [
    {
     "name": "stdout",
     "output_type": "stream",
     "text": [
      "0.8052153840671199\n",
      "1.6104307681342398\n",
      "0.3662508918144056\n"
     ]
    }
   ],
   "source": [
    "import math\n",
    "\n",
    "def sum_squared(y):\n",
    "    return sum([i*i for i in y])\n",
    "\n",
    "rmseST = math.sqrt(mean_squared_error(y_testST, y_predST))\n",
    "rrmseST = rmseST / (0.5)\n",
    "# rrmseST = rmseST / sum_squared(y_testST)\n",
    "r2ST = r2_score(y_testST, y_predST)\n",
    "print(rmseST)\n",
    "print(rrmseST)\n",
    "print(r2ST)"
   ]
  },
  {
   "cell_type": "code",
   "execution_count": 176,
   "id": "9134be89",
   "metadata": {},
   "outputs": [
    {
     "data": {
      "image/png": "[encoded data removed]",
      "text/plain": [
       "<Figure size 432x288 with 1 Axes>"
      ]
     },
     "metadata": {
      "needs_background": "light"
     },
     "output_type": "display_data"
    }
   ],
   "source": [
    "# from chatGPT!\n",
    "\n",
    "import numpy as np\n",
    "import matplotlib.pyplot as plt\n",
    "\n",
    "def plot_predictions(y_test, y_pred, descrip_of_run):\n",
    "    # Check if the arrays have the same length\n",
    "    if len(y_test) != len(y_pred):\n",
    "        raise ValueError(\"The input arrays must have the same length.\")\n",
    "\n",
    "    # Create a scatter plot\n",
    "    plt.scatter(y_test, y_pred)\n",
    "    plt.plot(y_test, y_test, color='red', linestyle='--')  # Line y_pred = y_test\n",
    "    plt.xlabel('y_test')\n",
    "    plt.ylabel('y_pred')\n",
    "#     plt.title('Predicted vs Actual for ' + descrip_of_run)\n",
    "    plt.grid(True)\n",
    "    plt.show()\n",
    "\n",
    "# Example usage\n",
    "# y_test = np.array([1, 2, 3, 4, 5])\n",
    "# y_pred = np.array([1.1, 1.9, 3.2, 3.8, 4.9])\n",
    "\n",
    "plot_predictions(y_testST, y_predST, 'Lasso with StandardScalar')\n"
   ]
  },
  {
   "cell_type": "markdown",
   "id": "3e3ee894",
   "metadata": {},
   "source": [
    "## Linear regression"
   ]
  },
  {
   "cell_type": "code",
   "execution_count": 177,
   "id": "7a41afbd",
   "metadata": {},
   "outputs": [],
   "source": [
    "linearST = LinearRegression()"
   ]
  },
  {
   "cell_type": "code",
   "execution_count": 178,
   "id": "a166f690",
   "metadata": {},
   "outputs": [
    {
     "name": "stdout",
     "output_type": "stream",
     "text": [
      "<class 'numpy.ndarray'>\n"
     ]
    },
    {
     "data": {
      "text/plain": [
       "LinearRegression()"
      ]
     },
     "execution_count": 178,
     "metadata": {},
     "output_type": "execute_result"
    }
   ],
   "source": [
    "print(type(y_trainST))\n",
    "\n",
    "linearST.fit(X_trainST,y_trainST)"
   ]
  },
  {
   "cell_type": "code",
   "execution_count": 179,
   "id": "adbdae66",
   "metadata": {},
   "outputs": [
    {
     "name": "stdout",
     "output_type": "stream",
     "text": [
      "0.6250555430875002\n",
      "0.7906045427946263\n",
      "0.6181168857289653\n"
     ]
    },
    {
     "data": {
      "image/png": "[encoded data removed]",
      "text/plain": [
       "<Figure size 432x288 with 1 Axes>"
      ]
     },
     "metadata": {
      "needs_background": "light"
     },
     "output_type": "display_data"
    }
   ],
   "source": [
    "y_predST = linearST.predict(X_testST)\n",
    "\n",
    "rmseST = math.sqrt(mean_squared_error(y_testST, y_predST))\n",
    "rrmseST = math.sqrt(rmseST)# (0.5)\n",
    "r2ST = r2_score(y_testST, y_predST)\n",
    "print(rmseST)\n",
    "print(rrmseST)\n",
    "print(r2ST)\n",
    "\n",
    "plot_predictions(y_testST, y_predST, 'Linear Regression using StandardScaler')\n"
   ]
  },
  {
   "cell_type": "markdown",
   "id": "988956e4",
   "metadata": {},
   "source": [
    "### Min Max scalar"
   ]
  },
  {
   "cell_type": "code",
   "execution_count": 180,
   "id": "62798cd0",
   "metadata": {},
   "outputs": [],
   "source": [
    "scalerXMM = MinMaxScaler().fit(X_train)\n",
    "scaleryMM = MinMaxScaler().fit(y_train)\n",
    "\n",
    "X_trainMM = scalerXMM.transform(X_train)\n",
    "y_trainMM = scaleryMM.transform(y_train)\n",
    "X_testMM = scalerXMM.transform(X_test)\n",
    "y_testMM = scaleryMM.transform(y_test)\n",
    "\n"
   ]
  },
  {
   "cell_type": "code",
   "execution_count": 181,
   "id": "b4688b71",
   "metadata": {},
   "outputs": [
    {
     "name": "stdout",
     "output_type": "stream",
     "text": [
      "[0.40912863]\n",
      "[49.3]\n"
     ]
    }
   ],
   "source": [
    "# testing how inverse of the scaling is working with MinMaxScaler\n",
    "\n",
    "# print(df_ml.iloc[7397]['yield'])   #  the first entry in y_test has index 1277 from df_ml\n",
    "print(y_testMM[0])\n",
    "print(scaleryMM.inverse_transform(y_testMM)[0])"
   ]
  },
  {
   "cell_type": "code",
   "execution_count": 182,
   "id": "e88b8e40",
   "metadata": {},
   "outputs": [
    {
     "name": "stdout",
     "output_type": "stream",
     "text": [
      "0.07323065886936767\n",
      "0.14646131773873533\n",
      "0.6181526532226981\n"
     ]
    },
    {
     "data": {
      "image/png": "[encoded data removed]",
      "text/plain": [
       "<Figure size 432x288 with 1 Axes>"
      ]
     },
     "metadata": {
      "needs_background": "light"
     },
     "output_type": "display_data"
    }
   ],
   "source": [
    "linearMM = LinearRegression()\n",
    "\n",
    "linearMM.fit(X_trainMM,y_trainMM)\n",
    "\n",
    "y_predMM = linearMM.predict(X_testMM)\n",
    "\n",
    "rmseMM = math.sqrt(mean_squared_error(y_testMM, y_predMM))\n",
    "rrmseMM = rmseMM / (0.5)\n",
    "r2MM = r2_score(y_testMM, y_predMM)\n",
    "print(rmseMM)\n",
    "print(rrmseMM)\n",
    "print(r2MM)\n",
    "\n",
    "\n",
    "plot_predictions(y_testMM, y_predMM, 'Linear Regression using MinMaxScaler')\n",
    "\n"
   ]
  },
  {
   "cell_type": "markdown",
   "id": "65aed2a4",
   "metadata": {},
   "source": [
    "## Random Forest"
   ]
  },
  {
   "cell_type": "code",
   "execution_count": 183,
   "id": "1929046b",
   "metadata": {},
   "outputs": [
    {
     "name": "stdout",
     "output_type": "stream",
     "text": [
      "0.06199366962489986\n",
      "0.12398733924979972\n",
      "0.7263480273011125\n"
     ]
    },
    {
     "data": {
      "image/png": "[encoded data removed]",
      "text/plain": [
       "<Figure size 432x288 with 1 Axes>"
      ]
     },
     "metadata": {
      "needs_background": "light"
     },
     "output_type": "display_data"
    }
   ],
   "source": [
    "# random forest regressor\n",
    "# regrMM = RandomForestRegressor(max_depth=2, random_state=0)\n",
    "#   with depth 2\n",
    "# 0.09689507428739876\n",
    "# 0.1937901485747975\n",
    "# 0.3314909449993473\n",
    "# regrMM = RandomForestRegressor(max_depth=10, random_state=0)\n",
    "#   with depth 10:\n",
    "# 0.06397662809467218\n",
    "# 0.12795325618934436\n",
    "# 0.7085617250365808\n",
    "regrMM = RandomForestRegressor(max_depth=30, random_state=0)\n",
    "# 0.11031130262769574\n",
    "# 0.22062260525539149\n",
    "# 0.5883965221916605\n",
    "#   with depth 20:\n",
    "# 0.06170941135743185\n",
    "# 0.1234188227148637\n",
    "# 0.7288518150799632\n",
    "\n",
    "# with depth 30:\n",
    "# 0.06173892378020676\n",
    "# 0.12347784756041352\n",
    "# 0.7285924007306489\n",
    "\n",
    "# for some reason, need to use y_trainMM.ravel() rather than simply y_trainMM\n",
    "regrMM.fit(X_trainMM, y_trainMM.ravel())\n",
    "\n",
    "y_predMM = regrMM.predict(X_testMM)\n",
    "rmseMM = math.sqrt(mean_squared_error(y_testMM, y_predMM))\n",
    "rrmseMM = rmseMM / (0.5)\n",
    "r2MM = r2_score(y_testMM, y_predMM)\n",
    "print(rmseMM)\n",
    "print(rrmseMM)\n",
    "print(r2MM)\n",
    "\n",
    "\n",
    "plot_predictions(y_testMM, y_predMM, 'Random Forest Regressor using MinMaxScaler')\n"
   ]
  },
  {
   "cell_type": "code",
   "execution_count": 184,
   "id": "f4db0d90",
   "metadata": {},
   "outputs": [
    {
     "name": "stdout",
     "output_type": "stream",
     "text": [
      "0.06242722987883\n",
      "0.12485445975766\n",
      "0.7225070062012477\n"
     ]
    },
    {
     "data": {
      "image/png": "[encoded data removed]",
      "text/plain": [
       "<Figure size 432x288 with 1 Axes>"
      ]
     },
     "metadata": {
      "needs_background": "light"
     },
     "output_type": "display_data"
    }
   ],
   "source": [
    "# Gradient Boost regressor\n",
    "# regrMM = GradientBoostingRegressor(max_depth=2, random_state=0)\n",
    "#   with depth 2\n",
    "# 0.09689507428739876\n",
    "# 0.1937901485747975\n",
    "# 0.3314909449993473\n",
    "regrMM = GradientBoostingRegressor(max_depth=10, random_state=0)\n",
    "#   with depth 10:\n",
    "# 0.06397662809467218\n",
    "# 0.12795325618934436\n",
    "# 0.7085617250365808\n",
    "# regrMM = GradientBoostingRegressor(max_depth=20, random_state=0)\n",
    "#   with depth 20:\n",
    "# 0.06170941135743185\n",
    "# 0.1234188227148637\n",
    "# 0.7288518150799632\n",
    "\n",
    "# with depth 30:\n",
    "# 0.06173892378020676\n",
    "# 0.12347784756041352\n",
    "# 0.7285924007306489\n",
    "\n",
    "# for some reason, need to use y_trainMM.ravel() rather than simply y_trainMM\n",
    "regrMM.fit(X_trainMM, y_trainMM.ravel())\n",
    "\n",
    "y_predMM = regrMM.predict(X_testMM)\n",
    "rmseMM = math.sqrt(mean_squared_error(y_testMM, y_predMM))\n",
    "rrmseMM = rmseMM / (0.5)\n",
    "r2MM = r2_score(y_testMM, y_predMM)\n",
    "print(rmseMM)\n",
    "print(rrmseMM)\n",
    "print(r2MM)\n",
    "\n",
    "\n",
    "plot_predictions(y_testMM, y_predMM, 'Random Forest Regressor using MinMaxScaler')"
   ]
  },
  {
   "cell_type": "code",
   "execution_count": null,
   "id": "598ad9d7",
   "metadata": {},
   "outputs": [],
   "source": []
  },
  {
   "cell_type": "code",
   "execution_count": null,
   "id": "915cef93",
   "metadata": {},
   "outputs": [],
   "source": []
  }
 ],
 "metadata": {
  "kernelspec": {
   "display_name": "Python 3 (ipykernel)",
   "language": "python",
   "name": "python3"
  },
  "language_info": {
   "codemirror_mode": {
    "name": "ipython",
    "version": 3
   },
   "file_extension": ".py",
   "mimetype": "text/x-python",
   "name": "python",
   "nbconvert_exporter": "python",
   "pygments_lexer": "ipython3",
   "version": "3.9.12"
  }
 },
 "nbformat": 4,
 "nbformat_minor": 5
}
