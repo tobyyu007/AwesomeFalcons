{
 "cells": [
  {
   "cell_type": "code",
   "execution_count": null,
   "metadata": {},
   "outputs": [],
   "source": [
    "import geopandas as gp\n",
    "import pandas as pd\n",
    "import numpy as np\n",
    "from sentinelhub import (\n",
    "    CRS,\n",
    "    BBox,\n",
    "    DataCollection,\n",
    "    MimeType,\n",
    "    SentinelHubRequest,\n",
    "    bbox_to_dimensions,\n",
    "    to_utm_bbox,\n",
    "    wgs84_to_pixel\n",
    ")\n",
    "import rasterio"
   ]
  },
  {
   "cell_type": "code",
   "execution_count": 13,
   "metadata": {},
   "outputs": [],
   "source": [
    "import os\n",
    "SENTINEL_CLIENT_ID = os.getenv('SENTINEL_CLIENT_ID')\n",
    "SENTINEL_CLIENT_SECRET = os.environ.get('SENTINEL_CLIENT_SECRET')"
   ]
  },
  {
   "cell_type": "code",
   "execution_count": 14,
   "metadata": {},
   "outputs": [
    {
     "name": "stdout",
     "output_type": "stream",
     "text": [
      "Successfully set up SentinelHub client\n"
     ]
    }
   ],
   "source": [
    "from sentinelhub import SHConfig\n",
    "\n",
    "config = SHConfig()\n",
    "\n",
    "config.sh_client_id = SENTINEL_CLIENT_ID\n",
    "config.sh_client_secret = SENTINEL_CLIENT_SECRET\n",
    "\n",
    "if not config.sh_client_id or not config.sh_client_secret:\n",
    "    print(\"Warning! To use Process API, please provide the credentials (OAuth client ID and client secret).\")\n",
    "else:\n",
    "    print(\"Successfully set up SentinelHub client\")\n"
   ]
  },
  {
   "cell_type": "code",
   "execution_count": 4,
   "metadata": {},
   "outputs": [],
   "source": [
    "county_fields = gp.read_file(\"./counties_rand_fields.geojson\").to_crs(\"WGS84\");"
   ]
  },
  {
   "cell_type": "code",
   "execution_count": null,
   "metadata": {},
   "outputs": [],
   "source": [
    "fields = county_fields.explode()"
   ]
  },
  {
   "cell_type": "code",
   "execution_count": 6,
   "metadata": {},
   "outputs": [],
   "source": [
    "deg_to_m = 3.3 # ~375km"
   ]
  },
  {
   "cell_type": "code",
   "execution_count": 7,
   "metadata": {},
   "outputs": [],
   "source": [
    "fields[\"x\"] = np.floor(fields[\"geometry\"].x / deg_to_m) * deg_to_m\n",
    "fields[\"y\"] = np.floor(fields[\"geometry\"].y / deg_to_m) * deg_to_m"
   ]
  },
  {
   "cell_type": "code",
   "execution_count": 8,
   "metadata": {},
   "outputs": [],
   "source": [
    "evalscript_NVDI_bands = \"\"\"\n",
    "    //VERSION=3\n",
    "\n",
    "    function setup() {\n",
    "        return {\n",
    "            input: [{\n",
    "                bands: [\"B04\", \"B08\"]\n",
    "            }],\n",
    "            output: {\n",
    "                bands: 2\n",
    "            }\n",
    "        };\n",
    "    }\n",
    "\n",
    "    function evaluatePixel(sample) {\n",
    "        return [sample.B04, sample.B08];\n",
    "    }\n",
    "\"\"\""
   ]
  },
  {
   "cell_type": "code",
   "execution_count": 18,
   "metadata": {},
   "outputs": [],
   "source": [
    "resolution = 150\n",
    "response = None\n",
    "_150m_to_deg = 0.0015;\n",
    "\n",
    "def fetch_sentinel(data, year, month):\n",
    "    year_s = str(year)\n",
    "    month_s = str(month)\n",
    "    border = data[\"geometry\"].total_bounds\n",
    "    border[2] = max(border[2], border[0] + _150m_to_deg);\n",
    "    border[3] = max(border[3], border[1] + _150m_to_deg);\n",
    "\n",
    "    border = BBox(tuple(border), crs=CRS.WGS84)\n",
    "    dims = bbox_to_dimensions(border, resolution=resolution)\n",
    "\n",
    "    # Indexing SRC: https://forum.sentinel-hub.com/t/get-output-coordinates-using-sentinelhubpy/2804/2\n",
    "    bb_utm = to_utm_bbox(border)\n",
    "    transform = bb_utm.get_transform_vector(resx=resolution, resy=resolution)\n",
    "    entries = []\n",
    "    # Sentinel data is available from 2017\n",
    "\n",
    "    request = SentinelHubRequest(\n",
    "        evalscript=evalscript_NVDI_bands,\n",
    "        input_data=[\n",
    "            SentinelHubRequest.input_data(\n",
    "                data_collection=DataCollection.SENTINEL2_L1C,\n",
    "                time_interval=(year_s + \"-\" + month_s + \"-01\",\n",
    "                                year_s + \"-\" + month_s + \"-06\"),\n",
    "            )\n",
    "        ],\n",
    "        responses=[SentinelHubRequest.output_response(\"default\", MimeType.PNG)],\n",
    "        bbox=border,\n",
    "        size=dims,\n",
    "        config=config,\n",
    "    )\n",
    "\n",
    "    img_data = request.get_data()[0]\n",
    "\n",
    "    for d in data.itertuples():\n",
    "      # Compute the xy coordinate\n",
    "      x, y = wgs84_to_pixel(d.geometry.x, d.geometry.y,\n",
    "                            transform, utm_epsg=bb_utm.crs)\n",
    "      x = min(max(x, len(img_data)), 0)\n",
    "      y = min(max(y, len(img_data[x])), 0)\n",
    "\n",
    "      pixel = img_data[x][y]\n",
    "      B04 = pixel[0]\n",
    "      B08 = pixel[1]\n",
    "      NVDI = (B08-B04)/(B08+B04)\n",
    "\n",
    "      entries.append([year, month, d.NAME, d.STATE_NAME, NVDI])\n",
    "\n",
    "    return pd.DataFrame(entries, columns=[\"year\", \"month\", \"name\", \"state_name\", \"NDVI\"])\n"
   ]
  },
  {
   "cell_type": "code",
   "execution_count": 21,
   "metadata": {},
   "outputs": [],
   "source": [
    "import concurrent.futures"
   ]
  },
  {
   "cell_type": "code",
   "execution_count": 25,
   "metadata": {},
   "outputs": [],
   "source": [
    "def fetch_month(yearMonth):\n",
    "    year, month = yearMonth;\n",
    "    path = \"./\" + str(year) + \"-\" + str(month) + \"-ndvi.csv\";\n",
    "    if os.path.isfile(path):\n",
    "      print(path, \"already exists\")\n",
    "      return;\n",
    "    print(\"fetching\", year, month);\n",
    "    sentinel_data = fields.groupby([\"x\",\"y\"]).apply(lambda x: fetch_sentinel(x, year, month));\n",
    "    # Drop invalid ndvi values\n",
    "    valid_ndvi = sentinel_data.reset_index(drop = True).dropna()\n",
    "    valid_ndvi = valid_ndvi.drop(valid_ndvi[((valid_ndvi[\"NDVI\"] > 1) | (valid_ndvi[\"NDVI\"] < 0))].index)\n",
    "    valid_ndvi.to_csv(path)"
   ]
  },
  {
   "cell_type": "code",
   "execution_count": null,
   "metadata": {},
   "outputs": [],
   "source": [
    "with concurrent.futures.ThreadPoolExecutor(max_workers=8) as executor:\n",
    "  executor.map(fetch_month, [(year, month) for year in range(2017, 2023) for month in range(1,13)])"
   ]
  }
 ],
 "metadata": {
  "kernelspec": {
   "display_name": "Python 3",
   "language": "python",
   "name": "python3"
  },
  "language_info": {
   "codemirror_mode": {
    "name": "ipython",
    "version": 3
   },
   "file_extension": ".py",
   "mimetype": "text/x-python",
   "name": "python",
   "nbconvert_exporter": "python",
   "pygments_lexer": "ipython3",
   "version": "3.9.6"
  },
  "orig_nbformat": 4
 },
 "nbformat": 4,
 "nbformat_minor": 2
}
