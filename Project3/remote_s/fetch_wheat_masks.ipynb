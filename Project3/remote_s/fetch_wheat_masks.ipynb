{
 "cells": [
  {
   "cell_type": "code",
   "execution_count": 1,
   "metadata": {},
   "outputs": [],
   "source": [
    "import geopandas as gp\n",
    "import pandas as pd"
   ]
  },
  {
   "cell_type": "code",
   "execution_count": 2,
   "metadata": {},
   "outputs": [],
   "source": [
    "county_lines = gp.read_file(\"./cb_2022_us_county_20m.dbf\")"
   ]
  },
  {
   "cell_type": "code",
   "execution_count": 3,
   "metadata": {},
   "outputs": [],
   "source": [
    "c = pd.read_csv(\"../yield_data/wheat_yield_data_final.csv\")"
   ]
  },
  {
   "cell_type": "code",
   "execution_count": 4,
   "metadata": {},
   "outputs": [],
   "source": [
    "selected_counties = (c[\"state_name\"] + \"-\" + c[\"county_name\"]).str.upper().unique()"
   ]
  },
  {
   "cell_type": "code",
   "execution_count": 5,
   "metadata": {},
   "outputs": [],
   "source": [
    "county_lines[\"NAME\"] = county_lines[\"NAME\"].str.upper()\n",
    "county_lines[\"STATE_NAME\"] = county_lines[\"STATE_NAME\"].str.upper()"
   ]
  },
  {
   "cell_type": "code",
   "execution_count": 6,
   "metadata": {},
   "outputs": [],
   "source": [
    "mask = (county_lines[\"STATE_NAME\"] + \"-\" + county_lines[\"NAME\"]).isin(selected_counties)"
   ]
  },
  {
   "cell_type": "code",
   "execution_count": 7,
   "metadata": {},
   "outputs": [],
   "source": [
    "selected_county_lines = county_lines[mask]"
   ]
  },
  {
   "cell_type": "code",
   "execution_count": 8,
   "metadata": {},
   "outputs": [],
   "source": [
    "selected_county_lines_5 = selected_county_lines.to_crs(epsg=\"5070\")"
   ]
  },
  {
   "cell_type": "code",
   "execution_count": 9,
   "metadata": {},
   "outputs": [],
   "source": [
    "selected_county_lines.to_file(\"./counties.geojson\", driver=\"GeoJSON\")"
   ]
  },
  {
   "cell_type": "code",
   "execution_count": 125,
   "metadata": {},
   "outputs": [],
   "source": [
    "import rasterio\n",
    "import rasterio.mask\n",
    "import urllib\n",
    "import os\n",
    "from shapely.geometry import MultiPoint, Point\n",
    "import numpy as np"
   ]
  },
  {
   "cell_type": "code",
   "execution_count": 17,
   "metadata": {},
   "outputs": [],
   "source": [
    "for year in [2008, 2022]:\n",
    "  url = \"https://www.nass.usda.gov/Research_and_Science/Cropland/Release/datasets/\" + str(year) + \"_30m_cdls.zip\"\n",
    "  urllib.request.urlretrieve(url, dest);\n",
    "  dest = \"temp.zip\";\n",
    "  os.system(\"unzip -p temp.zip \" + str(year) + \"_30m_cdls.tif > ./temp.tif\")\n",
    "  with rasterio.open(\"./temp.tif\") as tf:\n",
    "    outimg, transform = rasterio.mask.mask(\n",
    "        tf, selected_county_lines_5[\"geometry\"], crop=True)\n",
    "    cp = tf.profile.copy()\n",
    "    cp.update({\n",
    "        \"height\": outimg.shape[1],\n",
    "        \"width\": outimg.shape[2],\n",
    "        \"transform\": transform,\n",
    "    })\n",
    "    with rasterio.open(\"./\" + str(year) + \"_wheat_mask.tif\", 'w', nbits=1, **cp) as dst:\n",
    "        dst.write(outimg == 24)\n"
   ]
  },
  {
   "cell_type": "code",
   "execution_count": 45,
   "metadata": {},
   "outputs": [],
   "source": [
    "# Assuming that if a field is used to grow wheat in 2008 and 2022, it will be\n",
    "# used to grow wheat for the entire duration from 2008 and 2022.\n",
    "with rasterio.open(\"./2008_wheat_mask.tif\", nbits=1,) as mask_08:\n",
    "  with rasterio.open(\"./2022_wheat_mask.tif\", nbits=1, ) as mask_22:\n",
    "    with rasterio.open(\"./final_wheat_mask.tif\", 'w', nbits=1, **cp) as dst:\n",
    "        dst.write(mask_08.read() & mask_22.read())\n"
   ]
  },
  {
   "cell_type": "code",
   "execution_count": 45,
   "metadata": {},
   "outputs": [],
   "source": [
    "wheat_mask = rasterio.open(\"./final_wheat_mask.tif\", nbits=1,);\n",
    "selected_county_lines = gp.read_file(\"./counties.geojson\", driver=\"GeoJSON\").to_crs(wheat_mask.crs)\n"
   ]
  },
  {
   "cell_type": "code",
   "execution_count": 91,
   "metadata": {},
   "outputs": [],
   "source": [
    "rng = np.random.default_rng()"
   ]
  },
  {
   "cell_type": "code",
   "execution_count": 156,
   "metadata": {},
   "outputs": [],
   "source": [
    "def getCoordinatesInShape(tf, shape, n=20):\n",
    "    outimg, transform = rasterio.mask.mask(\n",
    "        tf, [shape], crop=True)\n",
    "    coords = np.argwhere(outimg[0] == 1);\n",
    "    if len(coords) > n:\n",
    "      coords = rng.choice(coords, n, replace = False);\n",
    "    return  MultiPoint([rasterio.transform.xy(transform, x, y) for x, y in coords])"
   ]
  },
  {
   "cell_type": "code",
   "execution_count": 157,
   "metadata": {},
   "outputs": [],
   "source": [
    "selected_county_lines[\"points\"] = selected_county_lines.apply(lambda cell: getCoordinatesInShape(wheat_mask, cell['geometry']) , axis=1)"
   ]
  },
  {
   "cell_type": "code",
   "execution_count": 168,
   "metadata": {},
   "outputs": [],
   "source": [
    "counties_rand_fields = selected_county_lines.set_geometry(\"points\").drop('geometry', axis=1)\n",
    "counties_rand_fields.crs = selected_county_lines.crs;\n",
    "counties_rand_fields = counties_rand_fields.to_crs(\"4326\")\n",
    "counties_rand_fields[~counties_rand_fields.is_empty].to_file(\"./counties_rand_fields.geojson\", driver=\"GeoJSON\")"
   ]
  }
 ],
 "metadata": {
  "kernelspec": {
   "display_name": "Python 3",
   "language": "python",
   "name": "python3"
  },
  "language_info": {
   "codemirror_mode": {
    "name": "ipython",
    "version": 3
   },
   "file_extension": ".py",
   "mimetype": "text/x-python",
   "name": "python",
   "nbconvert_exporter": "python",
   "pygments_lexer": "ipython3",
   "version": "3.9.6"
  },
  "orig_nbformat": 4
 },
 "nbformat": 4,
 "nbformat_minor": 2
}
