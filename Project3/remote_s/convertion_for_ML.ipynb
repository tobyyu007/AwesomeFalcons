{
 "cells": [
  {
   "cell_type": "markdown",
   "id": "fd633865",
   "metadata": {},
   "source": [
    "## Conversion format of the ndvi data"
   ]
  },
  {
   "cell_type": "code",
   "execution_count": 60,
   "id": "981ec043",
   "metadata": {},
   "outputs": [],
   "source": [
    "import pandas as pd\n",
    "from collections import OrderedDict\n",
    "# year,state_name,county_name,yield,lon,lat\n",
    "\n",
    "df = pd.read_csv('merged_ndvi.csv')\n",
    "df = pd.DataFrame({'year': df['year'], 'month': df['month'], 'state_name': df['state_name'],\n",
    "                'county_name': df['name'], 'NDVI': df['NDVI']})\n",
    "\n",
    "\n",
    "df_list = []\n",
    "for i in range(len(df['year'])):\n",
    "    temp_dict = dict()\n",
    "    for k in df:\n",
    "        temp_dict[k] = df[k][i]\n",
    "#     print(temp_dict)\n",
    "#     temp_dict.pop('Unnamed: 0')\n",
    "    df_list.append(temp_dict)\n",
    "\n",
    "converted_df = pd.DataFrame(list(map(dict, OrderedDict.fromkeys(tuple(d.items()) for d in df_list))))\n",
    "converted_df.to_csv('converted_ndvi.csv', index=False)"
   ]
  },
  {
   "cell_type": "code",
   "execution_count": 61,
   "id": "6733757c",
   "metadata": {},
   "outputs": [
    {
     "name": "stdout",
     "output_type": "stream",
     "text": [
      "       year  month  state_name county_name      NDVI\n",
      "0      2017      1  WASHINGTON     WHATCOM  0.082927\n",
      "1      2017      1  WASHINGTON   SNOHOMISH  0.082927\n",
      "2      2017      1  WASHINGTON      SKAGIT  0.082927\n",
      "3      2017      1  WASHINGTON   KLICKITAT  0.122807\n",
      "4      2017      1  WASHINGTON      BENTON  0.122807\n",
      "...     ...    ...         ...         ...       ...\n",
      "39972  2022      9    OKLAHOMA      ROGERS  0.659091\n",
      "39973  2022      9      KANSAS    ATCHISON  0.729730\n",
      "39974  2022      9      KANSAS       BROWN  0.729730\n",
      "39975  2022      9      KANSAS    DONIPHAN  0.729730\n",
      "39976  2022      9      KANSAS     JACKSON  0.729730\n",
      "\n",
      "[39977 rows x 5 columns]\n"
     ]
    }
   ],
   "source": [
    "print(converted_df)"
   ]
  },
  {
   "cell_type": "markdown",
   "id": "90c787b2",
   "metadata": {},
   "source": [
    "## create lon lat yield dataset"
   ]
  },
  {
   "cell_type": "code",
   "execution_count": 63,
   "id": "4b1e6f52",
   "metadata": {},
   "outputs": [
    {
     "name": "stdout",
     "output_type": "stream",
     "text": [
      "<class 'pandas.core.frame.DataFrame'>\n"
     ]
    }
   ],
   "source": [
    "lon_lat_dir = '../lon_lat_data/'\n",
    "lon_lat_file = 'state_county_lon_lat.csv'\n",
    "\n",
    "lon_lat_df = pd.read_csv(lon_lat_dir + lon_lat_file)\n",
    "print(type(lon_lat_df))"
   ]
  },
  {
   "cell_type": "code",
   "execution_count": null,
   "id": "c57d1070",
   "metadata": {},
   "outputs": [],
   "source": []
  }
 ],
 "metadata": {
  "kernelspec": {
   "display_name": "Python 3 (ipykernel)",
   "language": "python",
   "name": "python3"
  },
  "language_info": {
   "codemirror_mode": {
    "name": "ipython",
    "version": 3
   },
   "file_extension": ".py",
   "mimetype": "text/x-python",
   "name": "python",
   "nbconvert_exporter": "python",
   "pygments_lexer": "ipython3",
   "version": "3.9.12"
  }
 },
 "nbformat": 4,
 "nbformat_minor": 5
}
