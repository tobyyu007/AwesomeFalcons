{
 "cells": [
  {
   "cell_type": "code",
   "execution_count": 1,
   "id": "2459f358",
   "metadata": {},
   "outputs": [],
   "source": [
    "# pulled this long list from somewhere and added to it.  Not using everything here\n",
    "\n",
    "import pandas as pd\n",
    "import numpy as np\n",
    "from tqdm.auto import tqdm\n",
    "import seaborn as sns\n",
    "import matplotlib.pyplot as plt\n",
    "from sklearn.metrics import (\n",
    "    accuracy_score,\n",
    "    f1_score,\n",
    ")\n",
    "from sklearn.model_selection import  train_test_split\n",
    "from sklearn.ensemble import RandomForestClassifier, RandomForestRegressor, GradientBoostingRegressor\n",
    "from sklearn.linear_model import LogisticRegression, LinearRegression, Lasso\n",
    "from sklearn.neighbors import KNeighborsClassifier, KNeighborsRegressor\n",
    "from sklearn.svm import SVC, SVR\n",
    "from sklearn.preprocessing import StandardScaler\n",
    "from sklearn.preprocessing import MinMaxScaler\n",
    "from sklearn.metrics import precision_recall_fscore_support, mean_squared_error, r2_score\n",
    "\n",
    "from sklearn.model_selection import cross_val_score\n",
    "from sklearn.model_selection import RepeatedKFold\n",
    "\n",
    "from sklearn.ensemble import RandomForestRegressor\n",
    "from sklearn.datasets import make_regression"
   ]
  },
  {
   "cell_type": "code",
   "execution_count": 2,
   "id": "06a52532",
   "metadata": {},
   "outputs": [
    {
     "name": "stderr",
     "output_type": "stream",
     "text": [
      "/var/folders/b9/nh8wdd1s6g12c793c67f2r9r0000gn/T/ipykernel_27854/3600256382.py:6: DtypeWarning: Columns (8,9,10,11,12,13,14,15,16,17,18,19,20,21,22,23,24,25,26,27,28,29,30,31,32,33,34,35,36,37,38,39,40,41,42,43,44,45,46,47,48) have mixed types. Specify dtype option on import or set low_memory=False.\n",
      "  df_ml = pd.read_csv(ml_tables_dir + ml_file).dropna()\n"
     ]
    },
    {
     "name": "stdout",
     "output_type": "stream",
     "text": [
      "(8572, 121)\n",
      "   year  state_name county_name  yield  month      NDVI  nutr_ret_high  \\\n",
      "0  2017  WASHINGTON   KLICKITAT   31.8      1  0.122807           10.0   \n",
      "1  2017  WASHINGTON      BENTON   82.0      1  0.122807            9.0   \n",
      "2  2017  WASHINGTON      YAKIMA   60.0      1  0.122807            9.0   \n",
      "3  2017  WASHINGTON       ADAMS   66.3      1  0.261364           10.0   \n",
      "4  2017  WASHINGTON     LINCOLN   75.0      1  0.261364           10.0   \n",
      "\n",
      "   suit_irrig_high_soy  AEZ_1  AEZ_2  ... month_10__PRECTOTCORR  \\\n",
      "0               5556.0  False  False  ...                 44.73   \n",
      "1               7901.0  False  False  ...                 43.42   \n",
      "2               7950.0  False  False  ...                 46.37   \n",
      "3               8293.0  False  False  ...                 29.84   \n",
      "4               7778.0  False  False  ...                 19.08   \n",
      "\n",
      "  month_10__GWETROOT month_10__EVPTRNS month_10__ALLSKY_SFC_PAR_TOT  \\\n",
      "0           0.590333          0.043000                       1499.2   \n",
      "1           0.584333          0.045000                       1490.3   \n",
      "2           0.588000          0.024333                       1432.9   \n",
      "3           0.469333          0.066000                       1676.7   \n",
      "4           0.489000          0.040667                       1700.2   \n",
      "\n",
      "  month_11__T2M_MAX month_11__T2M_MIN month_11__PRECTOTCORR  \\\n",
      "0         -0.295806         -9.843226                 23.27   \n",
      "1         -0.374839         -9.639677                 25.22   \n",
      "2         -2.274516        -10.666129                 14.48   \n",
      "3          3.532581         -6.726774                 24.11   \n",
      "4          1.824194         -8.334194                 13.98   \n",
      "\n",
      "  month_11__GWETROOT month_11__EVPTRNS month_11__ALLSKY_SFC_PAR_TOT  \n",
      "0           0.588065          0.000645                       1401.0  \n",
      "1           0.582903          0.000645                       1358.7  \n",
      "2           0.578387          0.000323                       1332.0  \n",
      "3           0.451290          0.004516                       1402.9  \n",
      "4           0.473226          0.001613                       1307.5  \n",
      "\n",
      "[5 rows x 121 columns]\n",
      "False\n"
     ]
    }
   ],
   "source": [
    "ml_tables_dir = './ML_data/'\n",
    "\n",
    "ml_file = 'ML-table-monthly_ndvi.csv'\n",
    "\n",
    "\n",
    "df_ml = pd.read_csv(ml_tables_dir + ml_file).dropna()\n",
    "print(df_ml.shape)\n",
    "print(df_ml.head())\n",
    "\n",
    "# Happily, there are no null values in my ML table\n",
    "print(df_ml.isnull().values.any())\n",
    "# yields False"
   ]
  },
  {
   "cell_type": "code",
   "execution_count": 3,
   "id": "84b4b4c0",
   "metadata": {},
   "outputs": [
    {
     "name": "stdout",
     "output_type": "stream",
     "text": [
      "{0: 'year', 1: 'state_name', 2: 'county_name', 3: 'yield', 4: 'month', 5: 'NDVI', 6: 'nutr_ret_high', 7: 'suit_irrig_high_soy', 8: 'AEZ_1', 9: 'AEZ_2', 10: 'AEZ_3', 11: 'AEZ_4', 12: 'AEZ_5', 13: 'AEZ_6', 14: 'AEZ_7', 15: 'AEZ_8', 16: 'AEZ_9', 17: 'AEZ_10', 18: 'AEZ_11', 19: 'AEZ_12', 20: 'AEZ_13', 21: 'AEZ_14', 22: 'AEZ_15', 23: 'AEZ_16', 24: 'AEZ_17', 25: 'AEZ_18', 26: 'AEZ_19', 27: 'AEZ_20', 28: 'AEZ_21', 29: 'SQH_1', 30: 'SQH_2', 31: 'SQH_3', 32: 'SQH_4', 33: 'SQH_5', 34: 'SQH_6', 35: 'SQH_7', 36: 'SQH_8', 37: 'SQH_9', 38: 'SQH_10', 39: 'SQL_1', 40: 'SQL_2', 41: 'SQL_3', 42: 'SQL_4', 43: 'SQL_5', 44: 'SQL_6', 45: 'SQL_7', 46: 'SQL_8', 47: 'SQL_9', 48: 'SQL_10', 49: 'month_00__T2M_MAX', 50: 'month_00__T2M_MIN', 51: 'month_00__PRECTOTCORR', 52: 'month_00__GWETROOT', 53: 'month_00__EVPTRNS', 54: 'month_00__ALLSKY_SFC_PAR_TOT', 55: 'month_01__T2M_MAX', 56: 'month_01__T2M_MIN', 57: 'month_01__PRECTOTCORR', 58: 'month_01__GWETROOT', 59: 'month_01__EVPTRNS', 60: 'month_01__ALLSKY_SFC_PAR_TOT', 61: 'month_02__T2M_MAX', 62: 'month_02__T2M_MIN', 63: 'month_02__PRECTOTCORR', 64: 'month_02__GWETROOT', 65: 'month_02__EVPTRNS', 66: 'month_02__ALLSKY_SFC_PAR_TOT', 67: 'month_03__T2M_MAX', 68: 'month_03__T2M_MIN', 69: 'month_03__PRECTOTCORR', 70: 'month_03__GWETROOT', 71: 'month_03__EVPTRNS', 72: 'month_03__ALLSKY_SFC_PAR_TOT', 73: 'month_04__T2M_MAX', 74: 'month_04__T2M_MIN', 75: 'month_04__PRECTOTCORR', 76: 'month_04__GWETROOT', 77: 'month_04__EVPTRNS', 78: 'month_04__ALLSKY_SFC_PAR_TOT', 79: 'month_05__T2M_MAX', 80: 'month_05__T2M_MIN', 81: 'month_05__PRECTOTCORR', 82: 'month_05__GWETROOT', 83: 'month_05__EVPTRNS', 84: 'month_05__ALLSKY_SFC_PAR_TOT', 85: 'month_06__T2M_MAX', 86: 'month_06__T2M_MIN', 87: 'month_06__PRECTOTCORR', 88: 'month_06__GWETROOT', 89: 'month_06__EVPTRNS', 90: 'month_06__ALLSKY_SFC_PAR_TOT', 91: 'month_07__T2M_MAX', 92: 'month_07__T2M_MIN', 93: 'month_07__PRECTOTCORR', 94: 'month_07__GWETROOT', 95: 'month_07__EVPTRNS', 96: 'month_07__ALLSKY_SFC_PAR_TOT', 97: 'month_08__T2M_MAX', 98: 'month_08__T2M_MIN', 99: 'month_08__PRECTOTCORR', 100: 'month_08__GWETROOT', 101: 'month_08__EVPTRNS', 102: 'month_08__ALLSKY_SFC_PAR_TOT', 103: 'month_09__T2M_MAX', 104: 'month_09__T2M_MIN', 105: 'month_09__PRECTOTCORR', 106: 'month_09__GWETROOT', 107: 'month_09__EVPTRNS', 108: 'month_09__ALLSKY_SFC_PAR_TOT', 109: 'month_10__T2M_MAX', 110: 'month_10__T2M_MIN', 111: 'month_10__PRECTOTCORR', 112: 'month_10__GWETROOT', 113: 'month_10__EVPTRNS', 114: 'month_10__ALLSKY_SFC_PAR_TOT', 115: 'month_11__T2M_MAX', 116: 'month_11__T2M_MIN', 117: 'month_11__PRECTOTCORR', 118: 'month_11__GWETROOT', 119: 'month_11__EVPTRNS', 120: 'month_11__ALLSKY_SFC_PAR_TOT'}\n",
      "['state_name', 'month']\n"
     ]
    }
   ],
   "source": [
    "corr_idx = []\n",
    "df_dict = {}\n",
    "for idx, (key, val) in enumerate(df_ml.items()):\n",
    "    df_dict[idx] = key\n",
    "print(df_dict)\n",
    "\n",
    "for idx, i in enumerate(df_ml.corr()['yield']):\n",
    "    if i > 0.1 or i < -0.1:\n",
    "        corr_idx.append(idx)\n",
    "print([df_dict[i] for i in corr_idx])"
   ]
  },
  {
   "cell_type": "markdown",
   "id": "709bf72d",
   "metadata": {},
   "source": [
    "###### df_ml_dropped = df_ml.dropna()\n",
    "for idx, i in enumerate(df_ml_dropped.isnull().sum()):\n",
    "    print(i, df_ml_dropped.columns[idx])\n",
    "print(len(df_ml))\n",
    "print(len(df_ml_dropped))"
   ]
  },
  {
   "cell_type": "code",
   "execution_count": 4,
   "id": "3aa0dd73",
   "metadata": {},
   "outputs": [
    {
     "name": "stdout",
     "output_type": "stream",
     "text": [
      "(8572, 120)\n",
      "(8572, 1)\n"
     ]
    }
   ],
   "source": [
    "X = df_ml.drop(columns=['yield'])\n",
    "y = df_ml.loc[:,['yield']]\n",
    "\n",
    "print(X.shape)\n",
    "print(y.shape)\n",
    " \n",
    "# print(X.head())\n",
    "# print(y.head())"
   ]
  },
  {
   "cell_type": "code",
   "execution_count": 5,
   "id": "50cd46c3",
   "metadata": {},
   "outputs": [
    {
     "name": "stdout",
     "output_type": "stream",
     "text": [
      "      year  state_name county_name  month      NDVI  nutr_ret_high  \\\n",
      "5139  2018       TEXAS    SAN SABA      8  0.081081           10.0   \n",
      "5833  2019    OKLAHOMA   JEFFERSON      1  0.000000           10.0   \n",
      "9     2017  WASHINGTON      YAKIMA      1  0.261364            9.0   \n",
      "7398  2019    OKLAHOMA    WOODWARD      4  0.140000           10.0   \n",
      "3718  2018      KANSAS    COMANCHE      3  0.121951           10.0   \n",
      "\n",
      "      suit_irrig_high_soy  AEZ_1  AEZ_2  AEZ_3  ... month_10__PRECTOTCORR  \\\n",
      "5139               3333.0  False  False  False  ...                  7.39   \n",
      "5833               7778.0  False  False  False  ...                 32.27   \n",
      "9                  7950.0  False  False  False  ...                 45.71   \n",
      "7398              10000.0  False  False  False  ...                 12.90   \n",
      "3718              10000.0  False  False  False  ...                  5.43   \n",
      "\n",
      "     month_10__GWETROOT month_10__EVPTRNS month_10__ALLSKY_SFC_PAR_TOT  \\\n",
      "5139           0.401000          0.003667                       818.14   \n",
      "5833           0.446333          0.131667                      1551.43   \n",
      "9              0.513667          0.052667                      1532.00   \n",
      "7398           0.452667          0.001000                       901.93   \n",
      "3718           0.460000          0.000000                      1197.93   \n",
      "\n",
      "     month_11__T2M_MAX month_11__T2M_MIN month_11__PRECTOTCORR  \\\n",
      "5139          1.231935         -7.147097                  7.71   \n",
      "5833          5.543871         -5.142903                 17.94   \n",
      "9             1.325484         -8.411290                 30.41   \n",
      "7398          1.092581         -7.627742                 24.68   \n",
      "3718          1.556774         -8.271613                 12.51   \n",
      "\n",
      "     month_11__GWETROOT month_11__EVPTRNS month_11__ALLSKY_SFC_PAR_TOT  \n",
      "5139           0.406129          0.005484                       613.64  \n",
      "5833           0.435161          0.014839                      1261.08  \n",
      "9              0.509677          0.002581                      1370.80  \n",
      "7398           0.454194          0.000000                       806.08  \n",
      "3718           0.471290          0.000000                       852.17  \n",
      "\n",
      "[5 rows x 120 columns]\n",
      "      yield\n",
      "5139   27.1\n",
      "5833   38.0\n",
      "9      60.0\n",
      "7398   37.9\n",
      "3718   21.0\n",
      "      year state_name county_name  month      NDVI  nutr_ret_high  \\\n",
      "4390  2018     KANSAS    REPUBLIC      5  0.137931           10.0   \n",
      "4512  2018      TEXAS     RUNNELS      6  0.173554           10.0   \n",
      "2294  2018      TEXAS      CONCHO      1  0.255474           10.0   \n",
      "6174  2019    MONTANA       TOOLE     11  0.006897            9.0   \n",
      "3010  2018   OKLAHOMA      ROGERS     11  0.203883           10.0   \n",
      "\n",
      "      suit_irrig_high_soy  AEZ_1  AEZ_2  AEZ_3  ... month_10__PRECTOTCORR  \\\n",
      "4390               7778.0  False  False  False  ...                  1.61   \n",
      "4512               7778.0  False  False  False  ...                  4.68   \n",
      "2294               7778.0  False  False  False  ...                144.25   \n",
      "6174                  0.0  False  False  False  ...                 48.94   \n",
      "3010              10000.0  False  False  False  ...                  7.72   \n",
      "\n",
      "     month_10__GWETROOT month_10__EVPTRNS month_10__ALLSKY_SFC_PAR_TOT  \\\n",
      "4390           0.402000          0.002333                      1022.87   \n",
      "4512           0.460333          0.354667                      1932.55   \n",
      "2294           0.659667          0.379333                      1894.09   \n",
      "6174           0.409333          0.104667                      1767.55   \n",
      "3010           0.411000          0.039333                      1634.21   \n",
      "\n",
      "     month_11__T2M_MAX month_11__T2M_MIN month_11__PRECTOTCORR  \\\n",
      "4390         -8.099032        -15.135484                 12.52   \n",
      "4512          9.626129         -2.306452                 47.82   \n",
      "2294         17.406452          4.929032                  3.46   \n",
      "6174          9.404839          0.697742                 12.69   \n",
      "3010          9.996452         -1.468387                 75.02   \n",
      "\n",
      "     month_11__GWETROOT month_11__EVPTRNS month_11__ALLSKY_SFC_PAR_TOT  \n",
      "4390           0.405161          0.000000                       598.43  \n",
      "4512           0.466452          0.041290                      1523.73  \n",
      "2294           0.678065          0.298387                      1798.92  \n",
      "6174           0.403226          0.022258                      1149.22  \n",
      "3010           0.431290          0.008065                      1329.58  \n",
      "\n",
      "[5 rows x 120 columns]\n",
      "      yield\n",
      "4390   35.9\n",
      "4512   30.4\n",
      "2294   25.2\n",
      "6174   31.6\n",
      "3010   35.5\n",
      "\n",
      "      yield\n",
      "4390   35.9\n",
      "4512   30.4\n",
      "2294   25.2\n",
      "6174   31.6\n",
      "3010   35.5\n",
      "\n",
      "(6857, 120)\n",
      "(1715, 120)\n",
      "(6857, 1)\n",
      "(1715, 1)\n",
      "\n",
      "35.9\n"
     ]
    }
   ],
   "source": [
    "# For this pipeline I will do random shuffling of the input records before separating the test set\n",
    "# Choosing random_state=0 (or any specific integer) will ensure that different runs will use same shuffle\n",
    "\n",
    "X_train, X_test, y_train, y_test = train_test_split(X, y, test_size=0.2, random_state=0)\n",
    "\n",
    "# keeping a copy of y_test, because it may get modified below\n",
    "y_test_orig = y_test.copy()\n",
    "\n",
    "print(X_train.head())\n",
    "print(y_train.head())\n",
    "print(X_test.head())\n",
    "print(y_test.head())\n",
    "print()\n",
    "print(y_test_orig.head())\n",
    "# note: index of first row in y_test_orig is 7397)\n",
    "\n",
    "print()\n",
    "print(X_train.shape)\n",
    "print(X_test.shape)\n",
    "print(y_train.shape)\n",
    "print(y_test.shape)\n",
    "print()\n",
    "print(y_test.iloc[0,0])"
   ]
  },
  {
   "cell_type": "code",
   "execution_count": 6,
   "id": "b1a2c4c6",
   "metadata": {},
   "outputs": [],
   "source": [
    "X_train = X_train.drop(columns=['year','state_name','county_name'])\n",
    "X_test = X_test.drop(columns=['year','state_name','county_name'])\n",
    "\n",
    "\n",
    "scalerXST = StandardScaler().fit(X_train)\n",
    "scaleryST = StandardScaler().fit(y_train)\n",
    "\n",
    "X_trainST = scalerXST.transform(X_train)\n",
    "y_trainST = scaleryST.transform(y_train)\n",
    "X_testST = scalerXST.transform(X_test)\n",
    "y_testST = scaleryST.transform(y_test)\n",
    "\n"
   ]
  },
  {
   "cell_type": "code",
   "execution_count": 7,
   "id": "bd21ea60",
   "metadata": {},
   "outputs": [
    {
     "name": "stdout",
     "output_type": "stream",
     "text": [
      "21.6\n",
      "[-0.41135633]\n",
      "[35.9]\n"
     ]
    }
   ],
   "source": [
    "# testing how inverse of the scaling is working\n",
    "\n",
    "# basically, if scalery was your scaling function, then use scalery.inverse_transform;\n",
    "#   NOTE: this works on a sequence\n",
    "\n",
    "print(df_ml.iloc[7397]['yield'])   #  the first entry in y_test has index 1277 from df_ml\n",
    "print(y_testST[0]) #.loc[[1277]])\n",
    "print(scaleryST.inverse_transform(y_testST)[0])"
   ]
  },
  {
   "cell_type": "markdown",
   "id": "56c1ab5c",
   "metadata": {},
   "source": [
    "## Lasso"
   ]
  },
  {
   "cell_type": "code",
   "execution_count": 8,
   "id": "529c6d90",
   "metadata": {},
   "outputs": [
    {
     "data": {
      "text/plain": [
       "Lasso(alpha=0.1)"
      ]
     },
     "execution_count": 8,
     "metadata": {},
     "output_type": "execute_result"
    }
   ],
   "source": [
    "# confusingly, you set the \"lambda\" variable of LASSO algorithm using the parameter \"alpha\"\n",
    "# alpha can take values between 0 and 1; using 1.0 is \"full penalty\", so maximum attempts to remove features\n",
    "# lassoST = Lasso(alpha=1.0)\n",
    "# lassoST = Lasso(alpha=0.5)\n",
    "# lassoST = Lasso(alpha=0.2)\n",
    "lassoST = Lasso(alpha=0.1)\n",
    "# lassoST = Lasso(alpha=0.01)\n",
    "lassoST.fit(X_trainST, y_trainST)"
   ]
  },
  {
   "cell_type": "code",
   "execution_count": 9,
   "id": "d61dff94",
   "metadata": {},
   "outputs": [
    {
     "name": "stdout",
     "output_type": "stream",
     "text": [
      "[-0.15066248 -0.50146502 -0.50146502 ...  0.40376907 -0.15672449\n",
      "  0.40376907]\n"
     ]
    }
   ],
   "source": [
    "y_predST = lassoST.predict(X_testST)\n",
    "\n",
    "print(y_predST)"
   ]
  },
  {
   "cell_type": "code",
   "execution_count": 10,
   "id": "7703753d",
   "metadata": {},
   "outputs": [
    {
     "name": "stdout",
     "output_type": "stream",
     "text": [
      "0.8726800589672826\n",
      "1.7453601179345652\n",
      "0.24583238582848144\n"
     ]
    }
   ],
   "source": [
    "import math\n",
    "\n",
    "rmseST = math.sqrt(mean_squared_error(y_testST, y_predST))\n",
    "rrmseST = rmseST / (0.5)\n",
    "r2ST = r2_score(y_testST, y_predST)\n",
    "print(rmseST)\n",
    "print(rrmseST)\n",
    "print(r2ST)"
   ]
  },
  {
   "cell_type": "code",
   "execution_count": 11,
   "id": "2ed30c7a",
   "metadata": {},
   "outputs": [
    {
     "data": {
      "image/png": "[encoded data removed]",
      "text/plain": [
       "<Figure size 432x288 with 1 Axes>"
      ]
     },
     "metadata": {
      "needs_background": "light"
     },
     "output_type": "display_data"
    }
   ],
   "source": [
    "# from chatGPT!\n",
    "\n",
    "import numpy as np\n",
    "import matplotlib.pyplot as plt\n",
    "\n",
    "def plot_predictions(y_test, y_pred, descrip_of_run):\n",
    "    # Check if the arrays have the same length\n",
    "    if len(y_test) != len(y_pred):\n",
    "        raise ValueError(\"The input arrays must have the same length.\")\n",
    "\n",
    "    # Create a scatter plot\n",
    "    plt.scatter(y_test, y_pred)\n",
    "    plt.plot(y_test, y_test, color='red', linestyle='--')  # Line y_pred = y_test\n",
    "    plt.xlabel('y_test')\n",
    "    plt.ylabel('y_pred')\n",
    "    plt.title('Predicted vs Actual for ' + descrip_of_run)\n",
    "    plt.grid(True)\n",
    "    plt.show()\n",
    "\n",
    "# Example usage\n",
    "# y_test = np.array([1, 2, 3, 4, 5])\n",
    "# y_pred = np.array([1.1, 1.9, 3.2, 3.8, 4.9])\n",
    "\n",
    "plot_predictions(y_testST, y_predST, 'Lasso with StandardScalar')\n"
   ]
  },
  {
   "cell_type": "markdown",
   "id": "b487ea5b",
   "metadata": {},
   "source": [
    "## Standard Linear regression"
   ]
  },
  {
   "cell_type": "code",
   "execution_count": 12,
   "id": "f0780da2",
   "metadata": {},
   "outputs": [],
   "source": [
    "linearST = LinearRegression()"
   ]
  },
  {
   "cell_type": "code",
   "execution_count": 13,
   "id": "b0547dbf",
   "metadata": {},
   "outputs": [
    {
     "name": "stdout",
     "output_type": "stream",
     "text": [
      "<class 'numpy.ndarray'>\n"
     ]
    },
    {
     "data": {
      "text/plain": [
       "LinearRegression()"
      ]
     },
     "execution_count": 13,
     "metadata": {},
     "output_type": "execute_result"
    }
   ],
   "source": [
    "print(type(y_trainST))\n",
    "\n",
    "linearST.fit(X_trainST,y_trainST)"
   ]
  },
  {
   "cell_type": "code",
   "execution_count": 14,
   "id": "603d9f95",
   "metadata": {},
   "outputs": [
    {
     "name": "stdout",
     "output_type": "stream",
     "text": [
      "0.7881566323387708\n",
      "1.5763132646775415\n",
      "0.3848474294129286\n"
     ]
    },
    {
     "data": {
      "image/png": "[encoded data removed]",
      "text/plain": [
       "<Figure size 432x288 with 1 Axes>"
      ]
     },
     "metadata": {
      "needs_background": "light"
     },
     "output_type": "display_data"
    }
   ],
   "source": [
    "y_predST = linearST.predict(X_testST)\n",
    "\n",
    "rmseST = math.sqrt(mean_squared_error(y_testST, y_predST))\n",
    "rrmseST = rmseST / (0.5)\n",
    "r2ST = r2_score(y_testST, y_predST)\n",
    "print(rmseST)\n",
    "print(rrmseST)\n",
    "print(r2ST)\n",
    "\n",
    "\n",
    "plot_predictions(y_testST, y_predST, 'Linear Regression using StandardScaler')\n"
   ]
  },
  {
   "cell_type": "markdown",
   "id": "ac56d953",
   "metadata": {},
   "source": [
    "## Min Max Linear regression"
   ]
  },
  {
   "cell_type": "code",
   "execution_count": 15,
   "id": "dafb1168",
   "metadata": {},
   "outputs": [],
   "source": [
    "scalerXMM = MinMaxScaler().fit(X_train)\n",
    "scaleryMM = MinMaxScaler().fit(y_train)\n",
    "\n",
    "X_trainMM = scalerXMM.transform(X_train)\n",
    "y_trainMM = scaleryMM.transform(y_train)\n",
    "X_testMM = scalerXMM.transform(X_test)\n",
    "y_testMM = scaleryMM.transform(y_test)\n",
    "\n"
   ]
  },
  {
   "cell_type": "code",
   "execution_count": 16,
   "id": "53f9df82",
   "metadata": {},
   "outputs": [
    {
     "name": "stdout",
     "output_type": "stream",
     "text": [
      "21.6\n",
      "[0.30085262]\n",
      "[35.9]\n"
     ]
    }
   ],
   "source": [
    "# testing how inverse of the scaling is working with MinMaxScaler\n",
    "\n",
    "print(df_ml.iloc[7397]['yield'])   #  the first entry in y_test has index 1277 from df_ml\n",
    "print(y_testMM[0])\n",
    "print(scaleryMM.inverse_transform(y_testMM)[0])"
   ]
  },
  {
   "cell_type": "code",
   "execution_count": 17,
   "id": "740b9471",
   "metadata": {},
   "outputs": [
    {
     "name": "stdout",
     "output_type": "stream",
     "text": [
      "0.13700789747261824\n",
      "0.2740157949452365\n",
      "0.3922400847824318\n"
     ]
    },
    {
     "data": {
      "image/png": "[encoded data removed]",
      "text/plain": [
       "<Figure size 432x288 with 1 Axes>"
      ]
     },
     "metadata": {
      "needs_background": "light"
     },
     "output_type": "display_data"
    }
   ],
   "source": [
    "linearMM = LinearRegression()\n",
    "\n",
    "linearMM.fit(X_trainMM,y_trainMM)\n",
    "\n",
    "y_predMM = linearMM.predict(X_testMM)\n",
    "\n",
    "rmseMM = math.sqrt(mean_squared_error(y_testMM, y_predMM))\n",
    "rrmseMM = rmseMM / (0.5)\n",
    "r2MM = r2_score(y_testMM, y_predMM)\n",
    "print(rmseMM)\n",
    "print(rrmseMM)\n",
    "print(r2MM)\n",
    "\n",
    "\n",
    "plot_predictions(y_testMM, y_predMM, 'Linear Regression using MinMaxScaler')\n",
    "\n"
   ]
  },
  {
   "cell_type": "markdown",
   "id": "aa0b5216",
   "metadata": {},
   "source": [
    "# Random forest"
   ]
  },
  {
   "cell_type": "code",
   "execution_count": 18,
   "id": "86ae1e0c",
   "metadata": {},
   "outputs": [
    {
     "name": "stdout",
     "output_type": "stream",
     "text": [
      "0.11381185867132043\n",
      "0.22762371734264086\n",
      "0.5806121144664815\n"
     ]
    },
    {
     "data": {
      "image/png": "[encoded data removed]",
      "text/plain": [
       "<Figure size 432x288 with 1 Axes>"
      ]
     },
     "metadata": {
      "needs_background": "light"
     },
     "output_type": "display_data"
    }
   ],
   "source": [
    "# random forest regressor\n",
    "# regrMM = RandomForestRegressor(max_depth=2, random_state=0)\n",
    "#   with depth 2\n",
    "# 0.09689507428739876\n",
    "# 0.1937901485747975\n",
    "# 0.3314909449993473\n",
    "# regrMM = RandomForestRegressor(max_depth=10, random_state=0)\n",
    "#   with depth 10:\n",
    "# 0.06397662809467218\n",
    "# 0.12795325618934436\n",
    "# 0.7085617250365808\n",
    "regrMM = RandomForestRegressor(max_depth=20, random_state=0)\n",
    "#   with depth 20:\n",
    "# 0.06170941135743185\n",
    "# 0.1234188227148637\n",
    "# 0.7288518150799632\n",
    "\n",
    "# with depth 30:\n",
    "# 0.06173892378020676\n",
    "# 0.12347784756041352\n",
    "# 0.7285924007306489\n",
    "\n",
    "# for some reason, need to use y_trainMM.ravel() rather than simply y_trainMM\n",
    "regrMM.fit(X_trainMM, y_trainMM.ravel())\n",
    "\n",
    "y_predMM = regrMM.predict(X_testMM)\n",
    "rmseMM = math.sqrt(mean_squared_error(y_testMM, y_predMM))\n",
    "rrmseMM = rmseMM / (0.5)\n",
    "r2MM = r2_score(y_testMM, y_predMM)\n",
    "print(rmseMM)\n",
    "print(rrmseMM)\n",
    "print(r2MM)\n",
    "\n",
    "\n",
    "plot_predictions(y_testMM, y_predMM, 'Random Forest Regressor using MinMaxScaler')"
   ]
  },
  {
   "cell_type": "code",
   "execution_count": 19,
   "id": "c667d03a",
   "metadata": {},
   "outputs": [
    {
     "name": "stdout",
     "output_type": "stream",
     "text": [
      "0.11272344348356178\n",
      "0.22544688696712356\n",
      "0.5885952101141326\n"
     ]
    },
    {
     "data": {
      "image/png": "[encoded data removed]",
      "text/plain": [
       "<Figure size 432x288 with 1 Axes>"
      ]
     },
     "metadata": {
      "needs_background": "light"
     },
     "output_type": "display_data"
    }
   ],
   "source": [
    "# random forest regressor\n",
    "# regrMM = RandomForestRegressor(max_depth=2, random_state=0)\n",
    "#   with depth 2\n",
    "# 0.09689507428739876\n",
    "# 0.1937901485747975\n",
    "# 0.3314909449993473\n",
    "\n",
    "# regrMM = GradientBoostingRegressor(max_depth=5, random_state=0)\n",
    "# 0.06248140444921901\n",
    "# 0.12496280889843801\n",
    "# 0.7220251784274679\n",
    "\n",
    "# regrMM = GradientBoostingRegressor(max_depth=6, random_state=0)\n",
    "# 0.060561952415308665\n",
    "# 0.12112390483061733\n",
    "# 0.738841822368957\n",
    "\n",
    "regrMM = GradientBoostingRegressor(max_depth=7, random_state=0)\n",
    "# 0.060292341370410965\n",
    "# 0.12058468274082193\n",
    "# 0.7411619060993684\n",
    "\n",
    "# regrMM = GradientBoostingRegressor(max_depth=8, random_state=0)\n",
    "# 0.05947971829270693\n",
    "# 0.11895943658541386\n",
    "# 0.7480921507106322\n",
    "\n",
    "# regrMM = GradientBoostingRegressor(max_depth=7, random_state=0)\n",
    "# 0.06030470869466722\n",
    "# 0.12060941738933444\n",
    "# 0.7410557081021778\n",
    "\n",
    "# regrMM = GradientBoostingRegressor(max_depth=10, random_state=0)\n",
    "# 0.061367325378253915\n",
    "# 0.12273465075650783\n",
    "# 0.7318497012691665\n",
    "\n",
    "#   with depth 20:\n",
    "# 0.06170941135743185\n",
    "# 0.1234188227148637\n",
    "# 0.7288518150799632\n",
    "\n",
    "# with depth 30:\n",
    "# 0.06173892378020676\n",
    "# 0.12347784756041352\n",
    "# 0.7285924007306489\n",
    "\n",
    "# for some reason, need to use y_trainMM.ravel() rather than simply y_trainMM\n",
    "regrMM.fit(X_trainMM, y_trainMM.ravel())\n",
    "\n",
    "y_predMM = regrMM.predict(X_testMM)\n",
    "rmseMM = math.sqrt(mean_squared_error(y_testMM, y_predMM))\n",
    "rrmseMM = rmseMM / (0.5)\n",
    "r2MM = r2_score(y_testMM, y_predMM)\n",
    "print(rmseMM)\n",
    "print(rrmseMM)\n",
    "print(r2MM)\n",
    "\n",
    "\n",
    "plot_predictions(y_testMM, y_predMM, 'Random Forest Regressor using MinMaxScaler')\n"
   ]
  },
  {
   "cell_type": "code",
   "execution_count": null,
   "id": "010ccb63",
   "metadata": {},
   "outputs": [],
   "source": []
  },
  {
   "cell_type": "code",
   "execution_count": null,
   "id": "1f00b0e3",
   "metadata": {},
   "outputs": [],
   "source": []
  },
  {
   "cell_type": "code",
   "execution_count": null,
   "id": "973e36fe",
   "metadata": {},
   "outputs": [],
   "source": []
  }
 ],
 "metadata": {
  "kernelspec": {
   "display_name": "Python 3 (ipykernel)",
   "language": "python",
   "name": "python3"
  },
  "language_info": {
   "codemirror_mode": {
    "name": "ipython",
    "version": 3
   },
   "file_extension": ".py",
   "mimetype": "text/x-python",
   "name": "python",
   "nbconvert_exporter": "python",
   "pygments_lexer": "ipython3",
   "version": "3.9.12"
  }
 },
 "nbformat": 4,
 "nbformat_minor": 5
}
