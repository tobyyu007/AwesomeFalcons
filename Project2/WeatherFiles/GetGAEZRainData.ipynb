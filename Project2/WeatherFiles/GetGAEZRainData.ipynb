{
 "cells": [
  {
   "cell_type": "code",
   "execution_count": null,
   "id": "ceda94ce",
   "metadata": {},
   "outputs": [],
   "source": [
    "import urllib.request\n",
    "\n",
    "for year in range(2011,2100):\n",
    "    url = \"https://s3.eu-west-1.amazonaws.com/data.gaezdev.aws.fao.org/res01/GFDL-ESM2M/rcp8p5/TS/prc_GFDL-ESM2M_rcp8p5_\"+str(year)+\".tif\"\n",
    "    destination = \"/Users/kavya/Documents/ECS289L/Project2/GAEZ/tif_files/Rain/prc_GFDL-ESM2M_rcp8p5_\"+str(year)+\".tif\"\n",
    "    print(destination)\n",
    "    urllib.request.urlretrieve(url, destination)"
   ]
  },
  {
   "cell_type": "code",
   "execution_count": null,
   "id": "afbfb45d",
   "metadata": {},
   "outputs": [],
   "source": []
  }
 ],
 "metadata": {
  "kernelspec": {
   "display_name": "Python 3 (ipykernel)",
   "language": "python",
   "name": "python3"
  },
  "language_info": {
   "codemirror_mode": {
    "name": "ipython",
    "version": 3
   },
   "file_extension": ".py",
   "mimetype": "text/x-python",
   "name": "python",
   "nbconvert_exporter": "python",
   "pygments_lexer": "ipython3",
   "version": "3.7.16"
  }
 },
 "nbformat": 4,
 "nbformat_minor": 5
}
