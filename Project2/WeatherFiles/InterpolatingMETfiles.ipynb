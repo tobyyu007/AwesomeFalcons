{
 "cells": [
  {
   "cell_type": "code",
   "execution_count": 27,
   "id": "b873ee64",
   "metadata": {},
   "outputs": [],
   "source": [
    "def is_leap_year(year):\n",
    "    if year % 4 == 0:\n",
    "        if year % 100 == 0:\n",
    "            if year % 400 == 0:\n",
    "                return True  # Divisible by 400, so it's a leap year\n",
    "            else:\n",
    "                return False  # Divisible by 100 but not 400, so it's not a leap year\n",
    "        else:\n",
    "            return True  # Divisible by 4 but not 100, so it's a leap year\n",
    "    else:\n",
    "        return False  # Not divisible by 4, so it's not a leap year"
   ]
  },
  {
   "cell_type": "code",
   "execution_count": 42,
   "id": "d1696190",
   "metadata": {},
   "outputs": [
    {
     "name": "stdout",
     "output_type": "stream",
     "text": [
      "/Users/kavya/Documents/ECS289L/Project2/NASAPowerWeather/interpolated/2011-2100-sector-41.met\n",
      "/Users/kavya/Documents/ECS289L/Project2/NASAPowerWeather/interpolated/2011-2100-sector-40.met\n",
      "/Users/kavya/Documents/ECS289L/Project2/NASAPowerWeather/interpolated/2011-2100-sector-42.met\n",
      "/Users/kavya/Documents/ECS289L/Project2/NASAPowerWeather/interpolated/2011-2100-sector-43.met\n",
      "/Users/kavya/Documents/ECS289L/Project2/NASAPowerWeather/interpolated/2011-2100-sector-2.met\n",
      "/Users/kavya/Documents/ECS289L/Project2/NASAPowerWeather/interpolated/2011-2100-sector-18.met\n",
      "/Users/kavya/Documents/ECS289L/Project2/NASAPowerWeather/interpolated/2011-2100-sector-30.met\n",
      "/Users/kavya/Documents/ECS289L/Project2/NASAPowerWeather/interpolated/2011-2100-sector-24.met\n",
      "/Users/kavya/Documents/ECS289L/Project2/NASAPowerWeather/interpolated/2011-2100-sector-25.met\n",
      "/Users/kavya/Documents/ECS289L/Project2/NASAPowerWeather/interpolated/2011-2100-sector-31.met\n",
      "/Users/kavya/Documents/ECS289L/Project2/NASAPowerWeather/interpolated/2011-2100-sector-19.met\n",
      "/Users/kavya/Documents/ECS289L/Project2/NASAPowerWeather/interpolated/2011-2100-sector-3.met\n",
      "/Users/kavya/Documents/ECS289L/Project2/NASAPowerWeather/interpolated/2011-2100-sector-1.met\n",
      "/Users/kavya/Documents/ECS289L/Project2/NASAPowerWeather/interpolated/2011-2100-sector-27.met\n",
      "/Users/kavya/Documents/ECS289L/Project2/NASAPowerWeather/interpolated/2011-2100-sector-33.met\n",
      "/Users/kavya/Documents/ECS289L/Project2/NASAPowerWeather/interpolated/2011-2100-sector-32.met\n",
      "/Users/kavya/Documents/ECS289L/Project2/NASAPowerWeather/interpolated/2011-2100-sector-26.met\n",
      "/Users/kavya/Documents/ECS289L/Project2/NASAPowerWeather/interpolated/2011-2100-sector-4.met\n",
      "/Users/kavya/Documents/ECS289L/Project2/NASAPowerWeather/interpolated/2011-2100-sector-22.met\n",
      "/Users/kavya/Documents/ECS289L/Project2/NASAPowerWeather/interpolated/2011-2100-sector-36.met\n",
      "/Users/kavya/Documents/ECS289L/Project2/NASAPowerWeather/interpolated/2011-2100-sector-37.met\n",
      "/Users/kavya/Documents/ECS289L/Project2/NASAPowerWeather/interpolated/2011-2100-sector-23.met\n",
      "/Users/kavya/Documents/ECS289L/Project2/NASAPowerWeather/interpolated/2011-2100-sector-5.met\n",
      "/Users/kavya/Documents/ECS289L/Project2/NASAPowerWeather/interpolated/2011-2100-sector-7.met\n",
      "/Users/kavya/Documents/ECS289L/Project2/NASAPowerWeather/interpolated/2011-2100-sector-35.met\n",
      "/Users/kavya/Documents/ECS289L/Project2/NASAPowerWeather/interpolated/2011-2100-sector-21.met\n",
      "/Users/kavya/Documents/ECS289L/Project2/NASAPowerWeather/interpolated/2011-2100-sector-20.met\n",
      "/Users/kavya/Documents/ECS289L/Project2/NASAPowerWeather/interpolated/2011-2100-sector-34.met\n",
      "/Users/kavya/Documents/ECS289L/Project2/NASAPowerWeather/interpolated/2011-2100-sector-6.met\n",
      "/Users/kavya/Documents/ECS289L/Project2/NASAPowerWeather/interpolated/2011-2100-sector-39.met\n",
      "/Users/kavya/Documents/ECS289L/Project2/NASAPowerWeather/interpolated/2011-2100-sector-11.met\n",
      "/Users/kavya/Documents/ECS289L/Project2/NASAPowerWeather/interpolated/2011-2100-sector-10.met\n",
      "/Users/kavya/Documents/ECS289L/Project2/NASAPowerWeather/interpolated/2011-2100-sector-38.met\n",
      "/Users/kavya/Documents/ECS289L/Project2/NASAPowerWeather/interpolated/2011-2100-sector-8.met\n",
      "/Users/kavya/Documents/ECS289L/Project2/NASAPowerWeather/interpolated/2011-2100-sector-12.met\n",
      "/Users/kavya/Documents/ECS289L/Project2/NASAPowerWeather/interpolated/2011-2100-sector-13.met\n",
      "/Users/kavya/Documents/ECS289L/Project2/NASAPowerWeather/interpolated/2011-2100-sector-9.met\n",
      "/Users/kavya/Documents/ECS289L/Project2/NASAPowerWeather/interpolated/2011-2100-sector-17.met\n",
      "/Users/kavya/Documents/ECS289L/Project2/NASAPowerWeather/interpolated/2011-2100-sector-16.met\n",
      "/Users/kavya/Documents/ECS289L/Project2/NASAPowerWeather/interpolated/2011-2100-sector-14.met\n",
      "/Users/kavya/Documents/ECS289L/Project2/NASAPowerWeather/interpolated/2011-2100-sector-28.met\n",
      "/Users/kavya/Documents/ECS289L/Project2/NASAPowerWeather/interpolated/2011-2100-sector-29.met\n",
      "/Users/kavya/Documents/ECS289L/Project2/NASAPowerWeather/interpolated/2011-2100-sector-15.met\n"
     ]
    }
   ],
   "source": [
    "import pandas as pd\n",
    "import os\n",
    "\n",
    "work_dir = \"/Users/kavya/Documents/ECS289L/Project2/NASAPowerWeather/\"\n",
    "target_dir = '/Users/kavya/Documents/ECS289L/Project2/NASAPowerWeather/interpolated/'\n",
    "\n",
    "rain_gaez_df = pd.read_pickle('/Users/kavya/Documents/ECS289L/Project2/GAEZ/tif_files/pkl_files/rain_df.pkl')\n",
    "temp_gaez_df = pd.read_pickle('/Users/kavya/Documents/ECS289L/Project2/GAEZ/tif_files/pkl_files/temp_df.pkl')\n",
    "\n",
    "file_names = os.listdir(work_dir)\n",
    "\n",
    "# Filter for only .tif files\n",
    "met_files = [file for file in file_names if file.endswith('.met')]\n",
    "\n",
    "for met_file_name in met_files:\n",
    "    with open(file_path, \"r\") as file:\n",
    "        lines = file.readlines()[:13]\n",
    "        \n",
    "    df = pd.read_csv(work_dir + met_file_name, delim_whitespace=True, skiprows=12)\n",
    "    sector = int(met_file_name.split(\"-\")[3].replace(\".met\", \"\"))\n",
    "\n",
    "    # Assign new column names\n",
    "    df.columns = ['year', 'day', 'radn', 'maxt', 'mint', 'rain']\n",
    "    \n",
    "    grouped = df.groupby('day')\n",
    "    mean_values = grouped.mean()\n",
    "    \n",
    "    mean_values.reset_index(inplace=True)  # Reset the index\n",
    "    mean_values = mean_values[df.columns]\n",
    "    \n",
    "    for year in range(2023,2100):\n",
    "        if(is_leap_year(year)):\n",
    "            temp_df = mean_values.copy()\n",
    "            temp_df.loc[:, 'year'] = [year] * 366\n",
    "        else:\n",
    "            temp_df = mean_values[:365].copy()\n",
    "            temp_df.loc[:, 'year'] = [year] * 365\n",
    "        \n",
    "        # rain mean shift\n",
    "        rain_nasa_mean = temp_df['rain'].sum()\n",
    "\n",
    "        rain_gaez_mean = rain_gaez_df[(rain_gaez_df['sector'] == sector) & (rain_gaez_df['year'] == str(year))]['rain']\n",
    "\n",
    "        if(is_leap_year(year)):\n",
    "            rain_diff = (rain_gaez_mean-rain_nasa_mean)/366\n",
    "\n",
    "        else:\n",
    "            rain_diff = (rain_gaez_mean-rain_nasa_mean)/365\n",
    "\n",
    "        temp_df.loc[:, \"rain\"] = temp_df[\"rain\"].apply(lambda x: x + rain_diff.values[0])\n",
    "\n",
    "        # temp mean shift\n",
    "        temp_nasa_mean = temp_df['maxt'].mean()\n",
    "\n",
    "        temp_gaez_mean = temp_gaez_df[(temp_gaez_df['sector'] == sector) & (temp_gaez_df['year'] == str(year))]['temp']\n",
    "\n",
    "        if(is_leap_year(year)):\n",
    "            temp_diff = (temp_gaez_mean-temp_nasa_mean)/366\n",
    "\n",
    "        else:\n",
    "            temp_diff = (temp_gaez_mean-temp_nasa_mean)/365\n",
    "\n",
    "        temp_df.loc[:, \"maxt\"] = temp_df[\"maxt\"].apply(lambda x: x + rain_diff.values[0])\n",
    "        df = pd.concat([df,temp_df])\n",
    "    tar_file_path = target_dir+\"2011-2100-sector-\"+str(sector)+\".met\"\n",
    "    print(tar_file_path)\n",
    "    with open(tar_file_path, \"w\") as file:\n",
    "        # Write the lines\n",
    "        file.write(''.join(lines))\n",
    "    \n",
    "        # Write the DataFrame with a delimiter\n",
    "        df.to_csv(file, sep=\" \", index=False, header=False)"
   ]
  },
  {
   "cell_type": "code",
   "execution_count": 39,
   "id": "b9938d25",
   "metadata": {},
   "outputs": [
    {
     "name": "stdout",
     "output_type": "stream",
     "text": [
      "     year  day      radn       maxt      mint      rain\n",
      "0    2071    1  8.533333  13.075000  1.841667  1.183333\n",
      "1    2071    2  7.500000  12.566667  2.750000  0.891667\n",
      "2    2071    3  6.850000  13.633333  4.716667  3.433333\n",
      "3    2071    4  7.341667  13.991667  5.316667  3.391667\n",
      "4    2071    5  7.191667  14.208333  4.741667  4.383333\n",
      "..    ...  ...       ...        ...       ...       ...\n",
      "361  2071  362  8.400000  13.275000  2.775000  0.375000\n",
      "362  2071  363  6.891667  12.625000  3.258333  3.333333\n",
      "363  2071  364  7.933333  14.591667  3.275000  1.566667\n",
      "364  2071  365  8.566667  14.033333  3.008333  4.466667\n",
      "365  2071  366  9.200000  13.300000  1.533333  0.300000\n",
      "\n",
      "[366 rows x 6 columns]\n"
     ]
    }
   ],
   "source": [
    "file_path = \"/Users/kavya/Documents/ECS289L/Project2/NASAPowerWeather/2011-2022-sector-1.met\"\n",
    "tar_file_path = \"/Users/kavya/Documents/2011-2022-sector-1.met\"\n",
    "\n",
    "with open(file_path, \"r\") as file:\n",
    "    lines = file.readlines()[:13]\n",
    "    \n",
    "df = pd.read_csv(file_path, delim_whitespace=True, skiprows=12)\n",
    "df.columns = ['year', 'day', 'radn', 'maxt', 'mint', 'rain']\n",
    "grouped = df.groupby('day')\n",
    "mean_values = grouped.mean()\n",
    "mean_values.loc[:, 'year'] = ['2071'] * 366\n",
    "mean_values.reset_index(inplace=True)  # Reset the index\n",
    "mean_values = mean_values[df.columns]\n",
    "print(mean_values)\n",
    "# Write the lines and DataFrame to the file\n",
    "with open(tar_file_path, \"w\") as file:\n",
    "    # Write the lines\n",
    "    file.write(''.join(lines))\n",
    "    \n",
    "    # Write the DataFrame with a delimiter\n",
    "    mean_values.to_csv(file, sep=\" \", index=False, header=False)"
   ]
  },
  {
   "cell_type": "code",
   "execution_count": 7,
   "id": "6e6499a3",
   "metadata": {},
   "outputs": [
    {
     "data": {
      "text/plain": [
       "'2023'"
      ]
     },
     "execution_count": 7,
     "metadata": {},
     "output_type": "execute_result"
    }
   ],
   "source": [
    "year = 2023\n",
    "\n",
    "str(year)"
   ]
  },
  {
   "cell_type": "code",
   "execution_count": null,
   "id": "aff0d6ce",
   "metadata": {},
   "outputs": [],
   "source": []
  }
 ],
 "metadata": {
  "kernelspec": {
   "display_name": "Python 3 (ipykernel)",
   "language": "python",
   "name": "python3"
  },
  "language_info": {
   "codemirror_mode": {
    "name": "ipython",
    "version": 3
   },
   "file_extension": ".py",
   "mimetype": "text/x-python",
   "name": "python",
   "nbconvert_exporter": "python",
   "pygments_lexer": "ipython3",
   "version": "3.7.16"
  }
 },
 "nbformat": 4,
 "nbformat_minor": 5
}
