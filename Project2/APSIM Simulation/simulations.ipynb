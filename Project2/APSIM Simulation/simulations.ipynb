{
 "cells": [
  {
   "cell_type": "code",
   "execution_count": 2,
   "metadata": {},
   "outputs": [
    {
     "name": "stdout",
     "output_type": "stream",
     "text": [
      "Defaulting to user installation because normal site-packages is not writeable\n",
      "Requirement already satisfied: pandas in /Users/suhayb/Library/Python/3.9/lib/python/site-packages (1.5.3)\n",
      "Requirement already satisfied: python-dateutil>=2.8.1 in /Users/suhayb/Library/Python/3.9/lib/python/site-packages (from pandas) (2.8.2)\n",
      "Requirement already satisfied: pytz>=2020.1 in /Users/suhayb/Library/Python/3.9/lib/python/site-packages (from pandas) (2023.3)\n",
      "Requirement already satisfied: numpy>=1.20.3 in /Users/suhayb/Library/Python/3.9/lib/python/site-packages (from pandas) (1.24.3)\n",
      "Requirement already satisfied: six>=1.5 in /Applications/Xcode.app/Contents/Developer/Library/Frameworks/Python3.framework/Versions/3.9/lib/python3.9/site-packages (from python-dateutil>=2.8.1->pandas) (1.15.0)\n",
      "\u001b[33mWARNING: You are using pip version 21.2.4; however, version 23.1.2 is available.\n",
      "You should consider upgrading via the '/Applications/Xcode.app/Contents/Developer/usr/bin/python3 -m pip install --upgrade pip' command.\u001b[0m\n",
      "Note: you may need to restart the kernel to use updated packages.\n",
      "Defaulting to user installation because normal site-packages is not writeable\n",
      "Requirement already satisfied: numpy in /Users/suhayb/Library/Python/3.9/lib/python/site-packages (1.24.3)\n",
      "\u001b[33mWARNING: You are using pip version 21.2.4; however, version 23.1.2 is available.\n",
      "You should consider upgrading via the '/Applications/Xcode.app/Contents/Developer/usr/bin/python3 -m pip install --upgrade pip' command.\u001b[0m\n",
      "Note: you may need to restart the kernel to use updated packages.\n",
      "Defaulting to user installation because normal site-packages is not writeable\n",
      "Requirement already satisfied: owlready2 in /Users/suhayb/Library/Python/3.9/lib/python/site-packages (0.41)\n",
      "\u001b[33mWARNING: You are using pip version 21.2.4; however, version 23.1.2 is available.\n",
      "You should consider upgrading via the '/Applications/Xcode.app/Contents/Developer/usr/bin/python3 -m pip install --upgrade pip' command.\u001b[0m\n",
      "Note: you may need to restart the kernel to use updated packages.\n",
      "Defaulting to user installation because normal site-packages is not writeable\n",
      "Requirement already satisfied: seaborn in /Users/suhayb/Library/Python/3.9/lib/python/site-packages (0.12.2)\n",
      "Requirement already satisfied: numpy!=1.24.0,>=1.17 in /Users/suhayb/Library/Python/3.9/lib/python/site-packages (from seaborn) (1.24.3)\n",
      "Requirement already satisfied: matplotlib!=3.6.1,>=3.1 in /Users/suhayb/Library/Python/3.9/lib/python/site-packages (from seaborn) (3.7.1)\n",
      "Requirement already satisfied: pandas>=0.25 in /Users/suhayb/Library/Python/3.9/lib/python/site-packages (from seaborn) (1.5.3)\n",
      "Requirement already satisfied: kiwisolver>=1.0.1 in /Users/suhayb/Library/Python/3.9/lib/python/site-packages (from matplotlib!=3.6.1,>=3.1->seaborn) (1.4.4)\n",
      "Requirement already satisfied: cycler>=0.10 in /Users/suhayb/Library/Python/3.9/lib/python/site-packages (from matplotlib!=3.6.1,>=3.1->seaborn) (0.11.0)\n",
      "Requirement already satisfied: pillow>=6.2.0 in /Users/suhayb/Library/Python/3.9/lib/python/site-packages (from matplotlib!=3.6.1,>=3.1->seaborn) (9.5.0)\n",
      "Requirement already satisfied: pyparsing>=2.3.1 in /Users/suhayb/Library/Python/3.9/lib/python/site-packages (from matplotlib!=3.6.1,>=3.1->seaborn) (3.0.9)\n",
      "Requirement already satisfied: contourpy>=1.0.1 in /Users/suhayb/Library/Python/3.9/lib/python/site-packages (from matplotlib!=3.6.1,>=3.1->seaborn) (1.0.7)\n",
      "Requirement already satisfied: python-dateutil>=2.7 in /Users/suhayb/Library/Python/3.9/lib/python/site-packages (from matplotlib!=3.6.1,>=3.1->seaborn) (2.8.2)\n",
      "Requirement already satisfied: importlib-resources>=3.2.0 in /Users/suhayb/Library/Python/3.9/lib/python/site-packages (from matplotlib!=3.6.1,>=3.1->seaborn) (5.12.0)\n",
      "Requirement already satisfied: packaging>=20.0 in /Users/suhayb/Library/Python/3.9/lib/python/site-packages (from matplotlib!=3.6.1,>=3.1->seaborn) (23.1)\n",
      "Requirement already satisfied: fonttools>=4.22.0 in /Users/suhayb/Library/Python/3.9/lib/python/site-packages (from matplotlib!=3.6.1,>=3.1->seaborn) (4.39.4)\n",
      "Requirement already satisfied: zipp>=3.1.0 in /Users/suhayb/Library/Python/3.9/lib/python/site-packages (from importlib-resources>=3.2.0->matplotlib!=3.6.1,>=3.1->seaborn) (3.15.0)\n",
      "Requirement already satisfied: pytz>=2020.1 in /Users/suhayb/Library/Python/3.9/lib/python/site-packages (from pandas>=0.25->seaborn) (2023.3)\n",
      "Requirement already satisfied: six>=1.5 in /Applications/Xcode.app/Contents/Developer/Library/Frameworks/Python3.framework/Versions/3.9/lib/python3.9/site-packages (from python-dateutil>=2.7->matplotlib!=3.6.1,>=3.1->seaborn) (1.15.0)\n",
      "\u001b[33mWARNING: You are using pip version 21.2.4; however, version 23.1.2 is available.\n",
      "You should consider upgrading via the '/Applications/Xcode.app/Contents/Developer/usr/bin/python3 -m pip install --upgrade pip' command.\u001b[0m\n",
      "Note: you may need to restart the kernel to use updated packages.\n",
      "Defaulting to user installation because normal site-packages is not writeable\n",
      "Requirement already satisfied: matplotlib in /Users/suhayb/Library/Python/3.9/lib/python/site-packages (3.7.1)\n",
      "Requirement already satisfied: kiwisolver>=1.0.1 in /Users/suhayb/Library/Python/3.9/lib/python/site-packages (from matplotlib) (1.4.4)\n",
      "Requirement already satisfied: python-dateutil>=2.7 in /Users/suhayb/Library/Python/3.9/lib/python/site-packages (from matplotlib) (2.8.2)\n",
      "Requirement already satisfied: pyparsing>=2.3.1 in /Users/suhayb/Library/Python/3.9/lib/python/site-packages (from matplotlib) (3.0.9)\n",
      "Requirement already satisfied: cycler>=0.10 in /Users/suhayb/Library/Python/3.9/lib/python/site-packages (from matplotlib) (0.11.0)\n",
      "Requirement already satisfied: fonttools>=4.22.0 in /Users/suhayb/Library/Python/3.9/lib/python/site-packages (from matplotlib) (4.39.4)\n",
      "Requirement already satisfied: contourpy>=1.0.1 in /Users/suhayb/Library/Python/3.9/lib/python/site-packages (from matplotlib) (1.0.7)\n",
      "Requirement already satisfied: numpy>=1.20 in /Users/suhayb/Library/Python/3.9/lib/python/site-packages (from matplotlib) (1.24.3)\n",
      "Requirement already satisfied: packaging>=20.0 in /Users/suhayb/Library/Python/3.9/lib/python/site-packages (from matplotlib) (23.1)\n",
      "Requirement already satisfied: importlib-resources>=3.2.0 in /Users/suhayb/Library/Python/3.9/lib/python/site-packages (from matplotlib) (5.12.0)\n",
      "Requirement already satisfied: pillow>=6.2.0 in /Users/suhayb/Library/Python/3.9/lib/python/site-packages (from matplotlib) (9.5.0)\n",
      "Requirement already satisfied: zipp>=3.1.0 in /Users/suhayb/Library/Python/3.9/lib/python/site-packages (from importlib-resources>=3.2.0->matplotlib) (3.15.0)\n",
      "Requirement already satisfied: six>=1.5 in /Applications/Xcode.app/Contents/Developer/Library/Frameworks/Python3.framework/Versions/3.9/lib/python3.9/site-packages (from python-dateutil>=2.7->matplotlib) (1.15.0)\n",
      "\u001b[33mWARNING: You are using pip version 21.2.4; however, version 23.1.2 is available.\n",
      "You should consider upgrading via the '/Applications/Xcode.app/Contents/Developer/usr/bin/python3 -m pip install --upgrade pip' command.\u001b[0m\n",
      "Note: you may need to restart the kernel to use updated packages.\n",
      "Defaulting to user installation because normal site-packages is not writeable\n",
      "Requirement already satisfied: cycler in /Users/suhayb/Library/Python/3.9/lib/python/site-packages (0.11.0)\n",
      "\u001b[33mWARNING: You are using pip version 21.2.4; however, version 23.1.2 is available.\n",
      "You should consider upgrading via the '/Applications/Xcode.app/Contents/Developer/usr/bin/python3 -m pip install --upgrade pip' command.\u001b[0m\n",
      "Note: you may need to restart the kernel to use updated packages.\n",
      "Defaulting to user installation because normal site-packages is not writeable\n",
      "Requirement already satisfied: PyYAML in /Users/suhayb/Library/Python/3.9/lib/python/site-packages (6.0)\n",
      "\u001b[33mWARNING: You are using pip version 21.2.4; however, version 23.1.2 is available.\n",
      "You should consider upgrading via the '/Applications/Xcode.app/Contents/Developer/usr/bin/python3 -m pip install --upgrade pip' command.\u001b[0m\n",
      "Note: you may need to restart the kernel to use updated packages.\n"
     ]
    }
   ],
   "source": [
    "%pip install pandas\n",
    "%pip install numpy\n",
    "%pip install owlready2\n",
    "%pip install seaborn\n",
    "%pip install matplotlib\n",
    "%pip install cycler\n",
    "%pip install PyYAML"
   ]
  },
  {
   "cell_type": "code",
   "execution_count": 275,
   "metadata": {},
   "outputs": [],
   "source": [
    "import subprocess\n",
    "import os\n",
    "import glob, os\n",
    "import re\n",
    "import json\n",
    "import pandas as pd\n",
    "import sqlite3\n",
    "import shutil\n",
    "\n",
    "# Expect a run directory with multiple .met files and apsimx file with the\n",
    "# following format\n",
    "# Expect met file to have the format of '[START YYYY]-[END YYYY]-[tags]-sector-[Sector #].met'\n",
    "# Expect apsimx file to have the format of '[tags]-sector-[Sector #].apsimx'\n",
    "\n",
    "apsim_cmd = \"/Applications/APSIM2023.5.7223.0.app/Contents/Resources/bin/Models\"\n",
    "run_dir = \"../../ap/run\"\n",
    "os.chdir(run_dir)"
   ]
  },
  {
   "cell_type": "code",
   "execution_count": 302,
   "metadata": {},
   "outputs": [],
   "source": [
    "# Expect met file to have the format of '[START YYYY]-[END YYYY]-[tags]-sector-[Sector #].met'\n",
    "# Expect apsimx file to have the format of '[tags]-sector-[Sector #].apsimx'\n",
    "\n",
    "output_path = \"./output/\"\n",
    "shutil.rmtree(output_path, ignore_errors=True)\n",
    "os.mkdir(output_path)\n",
    "\n",
    "for sector in range(1, 44):\n",
    "  suffix = \"-sector-\" + str(sector)\n",
    "  models = glob.glob(\"./input/*\" + suffix + \".apsimx\")\n",
    "  weather = glob.glob(\"./input/*\" + suffix + \".met\")\n",
    "\n",
    "  for model in models:\n",
    "    file = open(model, \"r\")\n",
    "    model_src = json.load(file)\n",
    "    file.close()\n",
    "\n",
    "    clock = None;\n",
    "    whether = None;\n",
    "    for el in model_src[\"Children\"]:\n",
    "        for el2 in el[\"Children\"]:\n",
    "            if el2[\"$type\"] == \"Models.Clock, Models\":\n",
    "              clock = el2\n",
    "            if el2[\"$type\"] == \"Models.Climate.Weather, Models\":\n",
    "              whether = el2\n",
    "\n",
    "    if clock == None or whether == None:\n",
    "      continue\n",
    "\n",
    "    model_path_ = model.replace(\"./input/\", \"\")\n",
    "\n",
    "    for wether_path in weather:\n",
    "      wether_path_ = wether_path.replace(\"./input/\", \"\")\n",
    "      parts = wether_path_.split(\"-\");\n",
    "      clock[\"Start\"] = parts[0] + \"-01-01T00:00:00\";\n",
    "      clock[\"End\"] =  parts[1] + \"-12-31T00:00:00\";\n",
    "\n",
    "      whether[\"FileName\"] =  \"../\" + wether_path\n",
    "      output_file_name = output_path + model_path_.replace(suffix + \".apsimx\",\"\") + \"-\" + wether_path_.replace(\".met\", \".apsimx\");\n",
    "\n",
    "      file = open(output_file_name, \"w\")\n",
    "      json.dump(model_src, file)\n",
    "      file.close()\n"
   ]
  },
  {
   "attachments": {},
   "cell_type": "markdown",
   "metadata": {},
   "source": [
    "### Invoking APSIMX"
   ]
  },
  {
   "cell_type": "code",
   "execution_count": 303,
   "metadata": {},
   "outputs": [],
   "source": [
    "regex = 'Saturation of \\d*.\\d* in layer (\\d*) is above acceptable value of (\\d*.\\d*)'\n",
    "regex3 = 'Saturation of \\d*.\\d* in layer (\\d*) is at or below drained upper limit of (\\d*.\\d*)'\n",
    "regex4 = 'Saturation of \\d*.\\d* in layer (\\d*) is above acceptable value of \\d*.\\d*. You must adjust bulk density to below (\\d*.\\d*) OR saturation to below'\n",
    "regex2 = 'Soil water of \\d*.\\d* in layer (\\d*) is above saturation of (\\d*.\\d*)'\n",
    "regex5 = 'Soil water of \\d*.\\d* in layer (\\d*) is below air-dry value of (\\d*.\\d*)'\n",
    "\n",
    "# Patches soil sat errors\n",
    "def try_to_correct_errors(model, output):\n",
    "    file = open(model, \"r\")\n",
    "    model_src = json.load(file)\n",
    "    file.close()\n",
    "\n",
    "    sat = []\n",
    "    for el in model_src[\"Children\"]:\n",
    "        for el2 in el[\"Children\"]:\n",
    "            for el3 in el2[\"Children\"]:\n",
    "\n",
    "                if not \"Children\" in el3:\n",
    "                    continue\n",
    "\n",
    "                for el4 in el3[\"Children\"]:\n",
    "                    if el4[\"$type\"] == \"Models.Soils.Water, Models\":\n",
    "                        initial = el4[\"InitialValues\"]\n",
    "                        for (idx, upperBound) in re.findall(regex2, output):\n",
    "                            idx = int(idx) - 1\n",
    "                            initial[idx] = float(upperBound)\n",
    "                        for (idx, upperBound) in re.findall(regex5, output):\n",
    "                            for idx in range(0, len(initial)):\n",
    "                              initial[idx] = float(upperBound) + 0.01\n",
    "                    if el4[\"$type\"] == \"Models.Soils.Physical, Models\":\n",
    "                      bd = el4[\"BD\"]\n",
    "                      has_bd_errors = False\n",
    "                      for (idx, lowerLimit) in re.findall(regex4, output):\n",
    "                          idx = int(idx) - 1\n",
    "                          bd[idx] = float(lowerLimit) - 0.001\n",
    "                          has_bd_errors = True\n",
    "\n",
    "                      if has_bd_errors:\n",
    "                          continue\n",
    "\n",
    "                      sat = el4[\"SAT\"]\n",
    "                      for (idx, upperBound) in re.findall(regex, output):\n",
    "                          idx = int(idx) - 1\n",
    "                          sat[idx] = float(upperBound)\n",
    "                      for (idx, lowerLimit) in re.findall(regex3, output):\n",
    "                          idx = int(idx) - 1\n",
    "                          sat[idx] = float(lowerLimit) + 0.001\n",
    "\n",
    "    file = open(model, \"w\")\n",
    "    json.dump(model_src, file)\n",
    "    file.close()\n"
   ]
  },
  {
   "cell_type": "code",
   "execution_count": 304,
   "metadata": {},
   "outputs": [],
   "source": [
    "models = glob.glob(output_path + \"*.apsimx\")\n",
    "models_to_rerun = models\n"
   ]
  },
  {
   "cell_type": "code",
   "execution_count": 305,
   "metadata": {},
   "outputs": [],
   "source": [
    "def run_model(model):\n",
    "  return subprocess.Popen([apsim_cmd, model], stdout=subprocess.PIPE, stderr=subprocess.PIPE, text=True);\n"
   ]
  },
  {
   "cell_type": "code",
   "execution_count": 309,
   "metadata": {},
   "outputs": [
    {
     "data": {
      "text/plain": [
       "3"
      ]
     },
     "execution_count": 309,
     "metadata": {},
     "output_type": "execute_result"
    }
   ],
   "source": [
    "len(models_to_rerun)"
   ]
  },
  {
   "cell_type": "code",
   "execution_count": 312,
   "metadata": {},
   "outputs": [
    {
     "name": "stdout",
     "output_type": "stream",
     "text": [
      "['./output/_Maize-1981-2099-sector-43.apsimx', './output/_Wheat-1981-2099-sector-43.apsimx', './output/_Soybean-1981-2099-sector-43.apsimx']\n"
     ]
    }
   ],
   "source": [
    "n = 10\n",
    "models_to_rerun = [models_to_rerun[i:i + n] for i in range(0, len(models_to_rerun), n)]\n",
    "\n",
    "models_to_rerun_next = []\n",
    "for batch in models_to_rerun:\n",
    "    print(batch)\n",
    "    processes = [run_model(model) for model in batch]\n",
    "\n",
    "    for p in processes:\n",
    "      p.wait()\n",
    "      if p.returncode != 0:\n",
    "        out, err = p.communicate();\n",
    "        try_to_correct_errors(p.args[1], out)\n",
    "        models_to_rerun_next.append(p.args[1])\n",
    "        print(\"failed\", out)\n",
    "models_to_rerun = models_to_rerun_next"
   ]
  },
  {
   "attachments": {},
   "cell_type": "markdown",
   "metadata": {},
   "source": [
    "# Read Outputs"
   ]
  },
  {
   "cell_type": "code",
   "execution_count": 313,
   "metadata": {},
   "outputs": [],
   "source": [
    "def read_report(sqldb):\n",
    "    try:\n",
    "      # bog-standard read-write connection\n",
    "      conn = sqlite3.connect(sqldb)\n",
    "\n",
    "      report = pd.read_sql_query(\"SELECT * from report\", conn)\n",
    "      conn.close()\n",
    "\n",
    "      parts = sqldb.replace(\".db\", \"\").replace(output_path, \"\");\n",
    "      parts = parts.split(\"-sector-\");\n",
    "      report[\"model\"] = parts[0]\n",
    "      report[\"sector\"] = int(parts[1])\n",
    "    except:\n",
    "       print(sqldb, \"failed not table\")\n",
    "    return report\n"
   ]
  },
  {
   "cell_type": "code",
   "execution_count": 314,
   "metadata": {},
   "outputs": [
    {
     "name": "stderr",
     "output_type": "stream",
     "text": [
      "/var/folders/sw/rvpw8snn55lf_ls5qld525yc0000gn/T/ipykernel_52478/1475657802.py:6: FutureWarning: In a future version of pandas all arguments of StringMethods.split except for the argument 'pat' will be keyword-only.\n",
      "  modelParts = reports[\"model\"].str.split(\"-\", 1, expand=True);\n"
     ]
    }
   ],
   "source": [
    "outputs = glob.glob(output_path + \"*.db\")\n",
    "reports = [read_report(output) for output in outputs];\n",
    "reports = pd.concat(reports)\n",
    "reports[\"model\"] = reports[\"model\"].str.strip(\"_\")\n",
    "reports[\"Yield (kg/ha)\"] = reports[\"Yield\"].add((reports[\"Maize.Total.Wt\"] * 10), fill_value=0)\n",
    "modelParts = reports[\"model\"].str.split(\"-\", 1, expand=True);\n",
    "reports[\"crop\"] = modelParts[0]\n",
    "reports[\"weather\"] = modelParts[1]\n",
    "reports[[\"Yield (kg/ha)\", \"Clock.Today\", \"crop\", \"weather\", \"sector\"]].to_csv(\"./results.csv\")"
   ]
  },
  {
   "cell_type": "code",
   "execution_count": null,
   "metadata": {},
   "outputs": [],
   "source": []
  }
 ],
 "metadata": {
  "kernelspec": {
   "display_name": "Python 3",
   "language": "python",
   "name": "python3"
  },
  "language_info": {
   "codemirror_mode": {
    "name": "ipython",
    "version": 3
   },
   "file_extension": ".py",
   "mimetype": "text/x-python",
   "name": "python",
   "nbconvert_exporter": "python",
   "pygments_lexer": "ipython3",
   "version": "3.9.6"
  },
  "orig_nbformat": 4
 },
 "nbformat": 4,
 "nbformat_minor": 2
}
